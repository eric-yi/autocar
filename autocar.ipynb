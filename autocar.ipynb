{
 "cells": [
  {
   "cell_type": "markdown",
   "id": "f49f479e-fa28-4970-ba7e-900376b1f4b5",
   "metadata": {},
   "source": [
    "# AtuoCar"
   ]
  },
  {
   "cell_type": "markdown",
   "id": "3ab22e5f-4ecd-42f1-8fc5-a75f9df80f66",
   "metadata": {},
   "source": [
    "## 小车控制"
   ]
  },
  {
   "cell_type": "code",
   "execution_count": 2,
   "id": "0dccc638-4684-4b01-a948-daa0eef340b0",
   "metadata": {},
   "outputs": [
    {
     "name": "stdout",
     "output_type": "stream",
     "text": [
      "     0  1  2  3  4  5  6  7  8  9  a  b  c  d  e  f\n",
      "00: -- -- -- -- -- -- -- -- -- -- -- -- -- -- -- -- \n",
      "10: -- -- -- -- -- -- -- -- -- -- -- -- -- -- -- -- \n",
      "20: -- -- -- -- -- -- -- -- -- -- -- -- -- -- -- -- \n",
      "30: -- -- -- -- -- -- -- -- -- -- -- -- -- -- -- -- \n",
      "40: 40 -- -- -- -- -- -- -- -- -- -- -- -- -- -- -- \n",
      "50: -- -- -- -- -- -- -- -- -- -- -- -- -- -- -- -- \n",
      "60: -- -- -- -- -- -- -- -- -- -- -- -- -- -- -- -- \n",
      "70: -- -- -- -- -- -- -- -- -- -- -- -- -- -- -- -- \n"
     ]
    }
   ],
   "source": [
    "!i2cdetect -y -r -a 1"
   ]
  },
  {
   "cell_type": "markdown",
   "id": "622f12fd-c28f-4f1d-acfb-9bfd377a010d",
   "metadata": {},
   "source": [
    "#### 状态"
   ]
  },
  {
   "cell_type": "code",
   "execution_count": 52,
   "id": "53b98e7a-eecb-4492-9ecc-bd9d53b35a1c",
   "metadata": {},
   "outputs": [
    {
     "data": {
      "text/plain": [
       "32"
      ]
     },
     "execution_count": 52,
     "metadata": {},
     "output_type": "execute_result"
    }
   ],
   "source": [
    "import RPi.GPIO as GPIO \n",
    "import smbus\n",
    "\n",
    "motor_pin = 12\n",
    "\n",
    "bus = smbus.SMBus(1)\n",
    "address = 0x40\n",
    "\n",
    "bus.read_byte_data(address, 0x00)"
   ]
  },
  {
   "cell_type": "code",
   "execution_count": 49,
   "id": "6c47e31d-2421-40b2-8587-aa73ddbba74f",
   "metadata": {},
   "outputs": [],
   "source": [
    "bus.write_byte_data(0x40, 0x00, 0x00)\n",
    "GPIO.setmode(GPIO.BOARD)\n",
    "GPIO.setmode(GPIO.BOARD)"
   ]
  },
  {
   "cell_type": "code",
   "execution_count": 51,
   "id": "eebaf77a-3deb-4c47-9605-dac976780d0c",
   "metadata": {},
   "outputs": [
    {
     "data": {
      "text/plain": [
       "<adafruit_servokit.ServoKit at 0x7f94e0feb0>"
      ]
     },
     "execution_count": 51,
     "metadata": {},
     "output_type": "execute_result"
    }
   ],
   "source": [
    "from adafruit_servokit import ServoKit\n",
    "kit = ServoKit(channels=8)\n",
    "kit"
   ]
  },
  {
   "cell_type": "markdown",
   "id": "c3078871-50c7-4128-b977-8c1ca7f1480b",
   "metadata": {},
   "source": [
    "#### 转向\n",
    "\n",
    "> 控制舵机"
   ]
  },
  {
   "cell_type": "code",
   "execution_count": 47,
   "id": "b0771f26-4808-49f7-9961-17e21ceee51f",
   "metadata": {},
   "outputs": [],
   "source": [
    "kit.continuous_servo[1].throttle = 1"
   ]
  },
  {
   "cell_type": "code",
   "execution_count": 45,
   "id": "3c7fde9e-b94a-42b9-8ce8-16e2b2fe543d",
   "metadata": {},
   "outputs": [],
   "source": [
    "kit.continuous_servo[1].throttle = 0"
   ]
  },
  {
   "cell_type": "code",
   "execution_count": 33,
   "id": "a70d9161-df82-4c11-9e2d-b9c46da6317d",
   "metadata": {},
   "outputs": [],
   "source": [
    "import time\n",
    "steer_serv = kit.continuous_servo[1]\n",
    "steer_serv.throttle = 0\n",
    "step = 0.01\n",
    "count = int(1.0 / step)\n",
    "for i in range(count):\n",
    "    steer_serv.throttle = i * step\n",
    "    time.sleep(0.1)"
   ]
  },
  {
   "cell_type": "markdown",
   "id": "242deef9-01c5-4856-950b-10c4598de2be",
   "metadata": {},
   "source": [
    "#### 转动\n",
    "\n",
    "> 控制电机"
   ]
  },
  {
   "cell_type": "code",
   "execution_count": 43,
   "id": "9911c95c-4de7-45ba-9659-11cda2e5880a",
   "metadata": {},
   "outputs": [],
   "source": [
    "kit.continuous_servo[0].throttle = 1"
   ]
  },
  {
   "cell_type": "code",
   "execution_count": 35,
   "id": "aa918805-ce99-4e35-971b-f3e69dbfe853",
   "metadata": {},
   "outputs": [
    {
     "data": {
      "text/plain": [
       "<adafruit_motor.servo.ContinuousServo at 0x7fa7333280>"
      ]
     },
     "execution_count": 35,
     "metadata": {},
     "output_type": "execute_result"
    }
   ],
   "source": [
    "kit.continuous_servo[1]"
   ]
  },
  {
   "cell_type": "code",
   "execution_count": null,
   "id": "21899a65-8db9-4812-b8e2-eb4c9715cd47",
   "metadata": {},
   "outputs": [],
   "source": []
  }
 ],
 "metadata": {
  "kernelspec": {
   "display_name": "Python 3 (ipykernel)",
   "language": "python",
   "name": "python3"
  },
  "language_info": {
   "codemirror_mode": {
    "name": "ipython",
    "version": 3
   },
   "file_extension": ".py",
   "mimetype": "text/x-python",
   "name": "python",
   "nbconvert_exporter": "python",
   "pygments_lexer": "ipython3",
   "version": "3.8.13"
  }
 },
 "nbformat": 4,
 "nbformat_minor": 5
}
