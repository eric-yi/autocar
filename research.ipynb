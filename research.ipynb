{
 "cells": [
  {
   "cell_type": "markdown",
   "id": "f49f479e-fa28-4970-ba7e-900376b1f4b5",
   "metadata": {},
   "source": [
    "# AtuoCar"
   ]
  },
  {
   "cell_type": "markdown",
   "id": "4640de36-b7bf-43dd-b60a-7e7e40bf5f1c",
   "metadata": {},
   "source": [
    "[adafruit-circuitpython-servokit](https://pypi.org/project/adafruit-circuitpython-servokit/)\n",
    "\n",
    "[Jetson nano 进阶教程4_通过IIC输出PWM](https://www.lovegeek.cn/forum/forum.php?mod=viewthread&tid=259#:~:text=Jetson,nano%E7%9A%8440PIN%E4%B8%8D%E8%83%BD%E7%9B%B4%E6%8E%A5%E5%8F%91%E5%87%BAPWM%E6%B3%A2%EF%BC%8C%E5%9C%A8%E5%BE%88%E5%A4%9A%E6%8E%A7%E5%88%B6%E8%88%B5%E6%9C%BA%EF%BC%8C%E7%94%B5%E6%9C%BA%E8%B0%83%E9%80%9F%E6%96%B9%E9%9D%A2%E5%BE%88%E4%B8%8D%E6%96%B9%E4%BE%BF%EF%BC%8C%E5%9B%A0%E6%AD%A4%E5%88%A9%E7%94%A8%E4%B8%80%E5%9D%97PCA9685%E6%A8%A1%E5%9D%97%EF%BC%8C%E9%80%9A%E8%BF%87I2C%E6%80%BB%E7%BA%BF%E6%8E%A7%E5%88%B6PCA9685%E8%BE%93%E5%87%BApwm%E6%B3%A2%EF%BC%8C%E5%B9%B6%E4%B8%94%E5%8F%AF%E4%BB%A5%E8%B0%83%E6%95%B4%E5%8D%A0%E7%A9%BA%E6%AF%94%E3%80%82)\n",
    "\n",
    "[OS，RC车，jetson nano，导航与飙车（1）配件准备](https://blog.csdn.net/qq_15536485/article/details/121761226?spm=1001.2014.3001.5501)\n",
    "\n",
    "[雷达：LTME-02A / 3i-T1激光雷达文档](https://lingao.coding.net/share/km/0888f5ba-89e4-4e75-8551-d4a9b9a038d3/K-5)\n",
    "\n",
    "[dumborc小飞象X6FG 2.4g枪式遥控器枪控6通道带陀螺仪接收机配件](https://detail.1688.com/offer/601088216116.html)\n",
    "\n",
    "[Jetson nano使用PCA9685驱动舵机](https://blog.csdn.net/stoutwei/article/details/119682524)\n",
    "\n",
    "[Jetson nano i2c教程](https://blog.csdn.net/qq_18676517/article/details/104873374)"
   ]
  },
  {
   "cell_type": "markdown",
   "id": "3ab22e5f-4ecd-42f1-8fc5-a75f9df80f66",
   "metadata": {},
   "source": [
    "## 小车控制"
   ]
  },
  {
   "cell_type": "code",
   "execution_count": 5,
   "id": "0dccc638-4684-4b01-a948-daa0eef340b0",
   "metadata": {},
   "outputs": [
    {
     "name": "stdout",
     "output_type": "stream",
     "text": [
      "     0  1  2  3  4  5  6  7  8  9  a  b  c  d  e  f\n",
      "00: -- -- -- -- -- -- -- -- -- -- -- -- -- -- -- -- \n",
      "10: -- -- -- -- -- -- -- -- -- -- -- -- -- -- -- -- \n",
      "20: -- -- -- -- -- -- -- -- -- -- -- -- -- -- -- -- \n",
      "30: -- -- -- -- -- -- -- -- -- -- -- -- -- -- -- -- \n",
      "40: 40 -- -- -- -- -- -- -- -- -- -- -- -- -- -- -- \n",
      "50: -- -- -- -- -- -- -- -- -- -- -- -- -- -- -- -- \n",
      "60: -- -- -- -- -- -- -- -- -- -- -- -- -- -- -- -- \n",
      "70: -- -- -- -- -- -- -- -- -- -- -- -- -- -- -- -- \n"
     ]
    }
   ],
   "source": [
    "!i2cdetect -y -r -a 1"
   ]
  },
  {
   "cell_type": "markdown",
   "id": "c8ebea1d-4811-4b65-9d77-2c26a7649bfc",
   "metadata": {},
   "source": [
    "## 操控"
   ]
  },
  {
   "cell_type": "code",
   "execution_count": null,
   "id": "2ed61984-6690-44ad-a343-7599a8144b6d",
   "metadata": {},
   "outputs": [],
   "source": [
    "!sudo pip3 install adafruit-circuitpython-motorkit"
   ]
  },
  {
   "cell_type": "markdown",
   "id": "21bd5ad4-ddd3-43bd-81aa-b1726762a359",
   "metadata": {},
   "source": [
    "#### servo实验"
   ]
  },
  {
   "cell_type": "code",
   "execution_count": 11,
   "id": "2343b273-73db-4f45-a465-68f47ed078fa",
   "metadata": {},
   "outputs": [],
   "source": [
    "import board\n",
    "from adafruit_pca9685 import PCA9685\n",
    "from busio import I2C\n",
    "from adafruit_motor.servo import Servo, ContinuousServo"
   ]
  },
  {
   "cell_type": "code",
   "execution_count": 12,
   "id": "d48a35ad-7986-44ab-9459-c3ba1bb8dc48",
   "metadata": {},
   "outputs": [
    {
     "data": {
      "text/plain": [
       "<busio.I2C at 0x7fa4240fd0>"
      ]
     },
     "execution_count": 12,
     "metadata": {},
     "output_type": "execute_result"
    }
   ],
   "source": [
    "i2c = board.I2C()\n",
    "i2c"
   ]
  },
  {
   "cell_type": "code",
   "execution_count": 2,
   "id": "edbaeaba-b191-4856-86a3-7b8edda21e17",
   "metadata": {},
   "outputs": [
    {
     "ename": "NameError",
     "evalue": "name 'PCA9685' is not defined",
     "output_type": "error",
     "traceback": [
      "\u001b[0;31m---------------------------------------------------------------------------\u001b[0m",
      "\u001b[0;31mNameError\u001b[0m                                 Traceback (most recent call last)",
      "Input \u001b[0;32mIn [2]\u001b[0m, in \u001b[0;36m<cell line: 2>\u001b[0;34m()\u001b[0m\n\u001b[1;32m      1\u001b[0m \u001b[38;5;66;03m# pca = PCA9685(i2c, address=0x40, reference_clock_speed=25000000)\u001b[39;00m\n\u001b[0;32m----> 2\u001b[0m pca \u001b[38;5;241m=\u001b[39m \u001b[43mPCA9685\u001b[49m(i2c, address\u001b[38;5;241m=\u001b[39m\u001b[38;5;241m0x70\u001b[39m)\n\u001b[1;32m      3\u001b[0m pca\u001b[38;5;241m.\u001b[39mfrequency \u001b[38;5;241m=\u001b[39m \u001b[38;5;241m50\u001b[39m\n\u001b[1;32m      4\u001b[0m pca\n",
      "\u001b[0;31mNameError\u001b[0m: name 'PCA9685' is not defined"
     ]
    }
   ],
   "source": [
    "# pca = PCA9685(i2c, address=0x40, reference_clock_speed=25000000)\n",
    "pca = PCA9685(i2c, address=0x40)\n",
    "pca.frequency = 50\n",
    "pca"
   ]
  },
  {
   "cell_type": "code",
   "execution_count": 56,
   "id": "54bf8286-7a9a-46f9-b698-305df98e8827",
   "metadata": {},
   "outputs": [
    {
     "data": {
      "text/plain": [
       "<adafruit_pca9685.PWMChannel at 0x7f89cbb640>"
      ]
     },
     "execution_count": 56,
     "metadata": {},
     "output_type": "execute_result"
    }
   ],
   "source": [
    "pca.channels[0]"
   ]
  },
  {
   "cell_type": "code",
   "execution_count": 57,
   "id": "fb0db003-0550-47ba-bc6e-7cfcdd61c04a",
   "metadata": {},
   "outputs": [
    {
     "data": {
      "text/plain": [
       "<adafruit_motor.servo.ContinuousServo at 0x7f89cbb3d0>"
      ]
     },
     "execution_count": 57,
     "metadata": {},
     "output_type": "execute_result"
    }
   ],
   "source": [
    "import adafruit_motor.servo\n",
    "servo = adafruit_motor.servo.ContinuousServo(pca.channels[0])\n",
    "servo"
   ]
  },
  {
   "cell_type": "code",
   "execution_count": 76,
   "id": "6a22df21-b1e3-497d-a4de-e6bd731c06be",
   "metadata": {},
   "outputs": [],
   "source": [
    "servo.throttle = 0"
   ]
  },
  {
   "cell_type": "code",
   "execution_count": 75,
   "id": "e2d84a71-e3ee-47ae-9524-0350128c97a8",
   "metadata": {},
   "outputs": [],
   "source": [
    "servo.throttle = 0\n",
    "servo.throttle = 0.0041"
   ]
  },
  {
   "cell_type": "code",
   "execution_count": 15,
   "id": "3d393ddb-61b4-4ca7-81d2-ca1b297db3a9",
   "metadata": {},
   "outputs": [
    {
     "data": {
      "text/plain": [
       "<adafruit_motor.servo.Servo at 0x7fa0081310>"
      ]
     },
     "execution_count": 15,
     "metadata": {},
     "output_type": "execute_result"
    }
   ],
   "source": [
    "import adafruit_motor.servo\n",
    "servo = adafruit_motor.servo.Servo(pca.channels[1])\n",
    "servo"
   ]
  },
  {
   "cell_type": "markdown",
   "id": "1f49c2d5-df5c-4e13-84c8-4e0fac444062",
   "metadata": {},
   "source": [
    "#### adafruit motorkit 库"
   ]
  },
  {
   "cell_type": "code",
   "execution_count": 81,
   "id": "7e928349-ed1b-4371-af5f-01f838df5868",
   "metadata": {},
   "outputs": [
    {
     "data": {
      "text/plain": [
       "<adafruit_motorkit.MotorKit at 0x7f8a548370>"
      ]
     },
     "execution_count": 81,
     "metadata": {},
     "output_type": "execute_result"
    }
   ],
   "source": [
    "import time\n",
    "import board\n",
    "from adafruit_motorkit import MotorKit\n",
    "kit = MotorKit(address=0x40, i2c=board.I2C(), pwm_frequency=50.0)\n",
    "kit"
   ]
  },
  {
   "cell_type": "code",
   "execution_count": 83,
   "id": "9e589d20-69cb-42b3-829e-c3cbe475b895",
   "metadata": {},
   "outputs": [],
   "source": [
    "kit.motor1.throttle = 0\n",
    "kit.motor1.throttle = 0.01\n",
    "time.sleep(0.5)\n",
    "kit.motor1.throttle = 0"
   ]
  },
  {
   "cell_type": "markdown",
   "id": "28f0584b-4912-43fa-9154-d4702eb628fc",
   "metadata": {},
   "source": [
    "#### adafruit motor 库"
   ]
  },
  {
   "cell_type": "code",
   "execution_count": 2,
   "id": "a1f1ba20-8b24-48a7-923e-7284689531b5",
   "metadata": {},
   "outputs": [],
   "source": [
    "from board import SCL, SDA\n",
    "import busio\n",
    "from adafruit_pca9685 import PCA9685"
   ]
  },
  {
   "cell_type": "code",
   "execution_count": 3,
   "id": "9ec07455-b03a-4540-a4eb-0fa60aed3cf0",
   "metadata": {},
   "outputs": [],
   "source": [
    "i2c = busio.I2C(SCL, SDA)"
   ]
  },
  {
   "cell_type": "code",
   "execution_count": 12,
   "id": "d5091e42-dc40-4a8b-bf88-e0d887b40b32",
   "metadata": {},
   "outputs": [],
   "source": [
    "pca = PCA9685(i2c)\n",
    "pca.frequency = 50"
   ]
  },
  {
   "cell_type": "code",
   "execution_count": 9,
   "id": "178ae2b2-d649-46c6-a37f-e58b81ec80cc",
   "metadata": {},
   "outputs": [
    {
     "data": {
      "text/plain": [
       "<adafruit_motor.servo.ContinuousServo at 0x7fa04db0a0>"
      ]
     },
     "execution_count": 9,
     "metadata": {},
     "output_type": "execute_result"
    }
   ],
   "source": [
    "from adafruit_motor import servo\n",
    "servo1 = servo.ContinuousServo(pca.channels[1])\n",
    "servo1"
   ]
  },
  {
   "cell_type": "code",
   "execution_count": 10,
   "id": "74f6db77-b063-4b32-a1c9-6ab1eeb2a7a4",
   "metadata": {},
   "outputs": [],
   "source": [
    "servo1.throttle = 0\n",
    "servo1.throttle = 0.01"
   ]
  },
  {
   "cell_type": "code",
   "execution_count": 27,
   "id": "2b70064d-e407-457c-acc1-462d027b9b7b",
   "metadata": {},
   "outputs": [],
   "source": [
    "servo1.throttle = 0\n",
    "servo1.throttle = 0.0041\n",
    "time.sleep(0.5)\n",
    "servo1.throttle = 0"
   ]
  },
  {
   "cell_type": "code",
   "execution_count": 28,
   "id": "5a4cd821-2c07-4209-84fd-a3456540f465",
   "metadata": {},
   "outputs": [],
   "source": [
    "servo1.throttle = 0"
   ]
  },
  {
   "cell_type": "markdown",
   "id": "6349617f-fe46-4009-a8ae-18394166e525",
   "metadata": {},
   "source": [
    "> 不生效"
   ]
  },
  {
   "cell_type": "markdown",
   "id": "156d4be4-a775-41fa-96fc-cf7a5f7aac25",
   "metadata": {},
   "source": [
    "#### CircuitPython BusDevice 库"
   ]
  },
  {
   "cell_type": "code",
   "execution_count": 178,
   "id": "a5dc0d90-5028-4997-833c-215aaffa96b2",
   "metadata": {},
   "outputs": [
    {
     "data": {
      "text/plain": [
       "<adafruit_bus_device.i2c_device.I2CDevice at 0x7f6dbc4a60>"
      ]
     },
     "execution_count": 178,
     "metadata": {},
     "output_type": "execute_result"
    }
   ],
   "source": [
    "import board\n",
    "from adafruit_bus_device import i2c_device\n",
    "i2c_bus = board.I2C()\n",
    "i2c = i2c_device.I2CDevice(i2c_bus, 0x40)\n",
    "i2c"
   ]
  },
  {
   "cell_type": "code",
   "execution_count": 5,
   "id": "51df63f8-fbd0-4b9b-8528-1b6522be6794",
   "metadata": {},
   "outputs": [
    {
     "data": {
      "text/plain": [
       "<busio.I2C at 0x7f8c266b50>"
      ]
     },
     "execution_count": 5,
     "metadata": {},
     "output_type": "execute_result"
    }
   ],
   "source": [
    "from board import SCL, SDA\n",
    "import busio\n",
    "# i2c = busio.I2C(SCL, SDA)\n",
    "i2c_bus = board.I2C()\n",
    "i2c_bus"
   ]
  },
  {
   "cell_type": "code",
   "execution_count": 176,
   "id": "49ba0529-c766-40b9-a3f7-aeb066691e50",
   "metadata": {},
   "outputs": [],
   "source": [
    "def try_test(device_address = 0x40):\n",
    "    i2c_bus = board.I2C()\n",
    "    # i2c = i2c_device.I2CDevice(i2c_bus, device_address)\n",
    "    # i2c_bus = board.I2C()\n",
    "    while i2c_bus.try_lock():\n",
    "        pass\n",
    "    i2c_bus.writeto(device_address, b'')\n",
    "    result = bytearray(1)\n",
    "    i2c_bus.readfrom_into(device_address, result)\n",
    "    return result"
   ]
  },
  {
   "cell_type": "code",
   "execution_count": 177,
   "id": "3391a244-87df-4004-bdcd-3e793fd34650",
   "metadata": {},
   "outputs": [
    {
     "ename": "TimeoutError",
     "evalue": "[Errno 110] Connection timed out",
     "output_type": "error",
     "traceback": [
      "\u001b[0;31m---------------------------------------------------------------------------\u001b[0m",
      "\u001b[0;31mTimeoutError\u001b[0m                              Traceback (most recent call last)",
      "Input \u001b[0;32mIn [177]\u001b[0m, in \u001b[0;36m<cell line: 1>\u001b[0;34m()\u001b[0m\n\u001b[0;32m----> 1\u001b[0m \u001b[43mtry_test\u001b[49m\u001b[43m(\u001b[49m\u001b[43m)\u001b[49m\n",
      "Input \u001b[0;32mIn [176]\u001b[0m, in \u001b[0;36mtry_test\u001b[0;34m(device_address)\u001b[0m\n\u001b[1;32m      5\u001b[0m \u001b[38;5;28;01mwhile\u001b[39;00m i2c_bus\u001b[38;5;241m.\u001b[39mtry_lock():\n\u001b[1;32m      6\u001b[0m     \u001b[38;5;28;01mpass\u001b[39;00m\n\u001b[0;32m----> 7\u001b[0m \u001b[43mi2c_bus\u001b[49m\u001b[38;5;241;43m.\u001b[39;49m\u001b[43mwriteto\u001b[49m\u001b[43m(\u001b[49m\u001b[43mdevice_address\u001b[49m\u001b[43m,\u001b[49m\u001b[43m \u001b[49m\u001b[38;5;124;43mb\u001b[39;49m\u001b[38;5;124;43m'\u001b[39;49m\u001b[38;5;124;43m'\u001b[39;49m\u001b[43m)\u001b[49m\n\u001b[1;32m      8\u001b[0m result \u001b[38;5;241m=\u001b[39m \u001b[38;5;28mbytearray\u001b[39m(\u001b[38;5;241m1\u001b[39m)\n\u001b[1;32m      9\u001b[0m i2c_bus\u001b[38;5;241m.\u001b[39mreadfrom_into(device_address, result)\n",
      "File \u001b[0;32m/usr/local/lib/python3.8/dist-packages/busio.py:169\u001b[0m, in \u001b[0;36mI2C.writeto\u001b[0;34m(self, address, buffer, start, end, stop)\u001b[0m\n\u001b[1;32m    167\u001b[0m         \u001b[38;5;28;01mreturn\u001b[39;00m \u001b[38;5;28mself\u001b[39m\u001b[38;5;241m.\u001b[39m_i2c\u001b[38;5;241m.\u001b[39mwriteto(address, \u001b[38;5;28mmemoryview\u001b[39m(buffer)[start:], stop\u001b[38;5;241m=\u001b[39mstop)\n\u001b[1;32m    168\u001b[0m     \u001b[38;5;28;01mreturn\u001b[39;00m \u001b[38;5;28mself\u001b[39m\u001b[38;5;241m.\u001b[39m_i2c\u001b[38;5;241m.\u001b[39mwriteto(address, \u001b[38;5;28mmemoryview\u001b[39m(buffer)[start:end], stop\u001b[38;5;241m=\u001b[39mstop)\n\u001b[0;32m--> 169\u001b[0m \u001b[38;5;28;01mreturn\u001b[39;00m \u001b[38;5;28;43mself\u001b[39;49m\u001b[38;5;241;43m.\u001b[39;49m\u001b[43m_i2c\u001b[49m\u001b[38;5;241;43m.\u001b[39;49m\u001b[43mwriteto\u001b[49m\u001b[43m(\u001b[49m\u001b[43maddress\u001b[49m\u001b[43m,\u001b[49m\u001b[43m \u001b[49m\u001b[43mbuffer\u001b[49m\u001b[43m,\u001b[49m\u001b[43m \u001b[49m\u001b[43mstop\u001b[49m\u001b[38;5;241;43m=\u001b[39;49m\u001b[43mstop\u001b[49m\u001b[43m)\u001b[49m\n",
      "File \u001b[0;32m/usr/local/lib/python3.8/dist-packages/adafruit_blinka/microcontroller/generic_linux/i2c.py:52\u001b[0m, in \u001b[0;36mI2C.writeto\u001b[0;34m(self, address, buffer, start, end, stop)\u001b[0m\n\u001b[1;32m     50\u001b[0m \u001b[38;5;28;01mif\u001b[39;00m end \u001b[38;5;129;01mis\u001b[39;00m \u001b[38;5;28;01mNone\u001b[39;00m:\n\u001b[1;32m     51\u001b[0m     end \u001b[38;5;241m=\u001b[39m \u001b[38;5;28mlen\u001b[39m(buffer)\n\u001b[0;32m---> 52\u001b[0m \u001b[38;5;28;43mself\u001b[39;49m\u001b[38;5;241;43m.\u001b[39;49m\u001b[43m_i2c_bus\u001b[49m\u001b[38;5;241;43m.\u001b[39;49m\u001b[43mwrite_bytes\u001b[49m\u001b[43m(\u001b[49m\u001b[43maddress\u001b[49m\u001b[43m,\u001b[49m\u001b[43m \u001b[49m\u001b[43mbuffer\u001b[49m\u001b[43m[\u001b[49m\u001b[43mstart\u001b[49m\u001b[43m:\u001b[49m\u001b[43mend\u001b[49m\u001b[43m]\u001b[49m\u001b[43m)\u001b[49m\n",
      "File \u001b[0;32m/usr/local/lib/python3.8/dist-packages/Adafruit_PureIO/smbus.py:314\u001b[0m, in \u001b[0;36mSMBus.write_bytes\u001b[0;34m(self, addr, buf)\u001b[0m\n\u001b[1;32m    310\u001b[0m \u001b[38;5;28;01massert\u001b[39;00m (\n\u001b[1;32m    311\u001b[0m     \u001b[38;5;28mself\u001b[39m\u001b[38;5;241m.\u001b[39m_device \u001b[38;5;129;01mis\u001b[39;00m \u001b[38;5;129;01mnot\u001b[39;00m \u001b[38;5;28;01mNone\u001b[39;00m\n\u001b[1;32m    312\u001b[0m ), \u001b[38;5;124m\"\u001b[39m\u001b[38;5;124mBus must be opened before operations are made against it!\u001b[39m\u001b[38;5;124m\"\u001b[39m\n\u001b[1;32m    313\u001b[0m \u001b[38;5;28mself\u001b[39m\u001b[38;5;241m.\u001b[39m_select_device(addr)\n\u001b[0;32m--> 314\u001b[0m \u001b[38;5;28;43mself\u001b[39;49m\u001b[38;5;241;43m.\u001b[39;49m\u001b[43m_device\u001b[49m\u001b[38;5;241;43m.\u001b[39;49m\u001b[43mwrite\u001b[49m\u001b[43m(\u001b[49m\u001b[43mbuf\u001b[49m\u001b[43m)\u001b[49m\n",
      "\u001b[0;31mTimeoutError\u001b[0m: [Errno 110] Connection timed out"
     ]
    }
   ],
   "source": [
    "try_test()"
   ]
  },
  {
   "cell_type": "code",
   "execution_count": 168,
   "id": "78d476ae-8958-4431-a636-299d7ebd653c",
   "metadata": {},
   "outputs": [
    {
     "ename": "TimeoutError",
     "evalue": "[Errno 110] Connection timed out",
     "output_type": "error",
     "traceback": [
      "\u001b[0;31m---------------------------------------------------------------------------\u001b[0m",
      "\u001b[0;31mTimeoutError\u001b[0m                              Traceback (most recent call last)",
      "Input \u001b[0;32mIn [168]\u001b[0m, in \u001b[0;36m<cell line: 1>\u001b[0;34m()\u001b[0m\n\u001b[0;32m----> 1\u001b[0m \u001b[43mtry_test\u001b[49m\u001b[43m(\u001b[49m\u001b[38;5;241;43m0x70\u001b[39;49m\u001b[43m)\u001b[49m\n",
      "Input \u001b[0;32mIn [159]\u001b[0m, in \u001b[0;36mtry_test\u001b[0;34m(device_address)\u001b[0m\n\u001b[1;32m      5\u001b[0m \u001b[38;5;28;01mwhile\u001b[39;00m i2c_bus\u001b[38;5;241m.\u001b[39mtry_lock():\n\u001b[1;32m      6\u001b[0m     \u001b[38;5;28;01mpass\u001b[39;00m\n\u001b[0;32m----> 7\u001b[0m \u001b[43mi2c_bus\u001b[49m\u001b[38;5;241;43m.\u001b[39;49m\u001b[43mwriteto\u001b[49m\u001b[43m(\u001b[49m\u001b[43mdevice_address\u001b[49m\u001b[43m,\u001b[49m\u001b[43m \u001b[49m\u001b[38;5;124;43mb\u001b[39;49m\u001b[38;5;124;43m'\u001b[39;49m\u001b[38;5;124;43m'\u001b[39;49m\u001b[43m)\u001b[49m\n\u001b[1;32m      8\u001b[0m result \u001b[38;5;241m=\u001b[39m \u001b[38;5;28mbytearray\u001b[39m(\u001b[38;5;241m1\u001b[39m)\n\u001b[1;32m      9\u001b[0m i2c_bus\u001b[38;5;241m.\u001b[39mreadfrom_into(device_address, result)\n",
      "File \u001b[0;32m/usr/local/lib/python3.8/dist-packages/busio.py:169\u001b[0m, in \u001b[0;36mI2C.writeto\u001b[0;34m(self, address, buffer, start, end, stop)\u001b[0m\n\u001b[1;32m    167\u001b[0m         \u001b[38;5;28;01mreturn\u001b[39;00m \u001b[38;5;28mself\u001b[39m\u001b[38;5;241m.\u001b[39m_i2c\u001b[38;5;241m.\u001b[39mwriteto(address, \u001b[38;5;28mmemoryview\u001b[39m(buffer)[start:], stop\u001b[38;5;241m=\u001b[39mstop)\n\u001b[1;32m    168\u001b[0m     \u001b[38;5;28;01mreturn\u001b[39;00m \u001b[38;5;28mself\u001b[39m\u001b[38;5;241m.\u001b[39m_i2c\u001b[38;5;241m.\u001b[39mwriteto(address, \u001b[38;5;28mmemoryview\u001b[39m(buffer)[start:end], stop\u001b[38;5;241m=\u001b[39mstop)\n\u001b[0;32m--> 169\u001b[0m \u001b[38;5;28;01mreturn\u001b[39;00m \u001b[38;5;28;43mself\u001b[39;49m\u001b[38;5;241;43m.\u001b[39;49m\u001b[43m_i2c\u001b[49m\u001b[38;5;241;43m.\u001b[39;49m\u001b[43mwriteto\u001b[49m\u001b[43m(\u001b[49m\u001b[43maddress\u001b[49m\u001b[43m,\u001b[49m\u001b[43m \u001b[49m\u001b[43mbuffer\u001b[49m\u001b[43m,\u001b[49m\u001b[43m \u001b[49m\u001b[43mstop\u001b[49m\u001b[38;5;241;43m=\u001b[39;49m\u001b[43mstop\u001b[49m\u001b[43m)\u001b[49m\n",
      "File \u001b[0;32m/usr/local/lib/python3.8/dist-packages/adafruit_blinka/microcontroller/generic_linux/i2c.py:52\u001b[0m, in \u001b[0;36mI2C.writeto\u001b[0;34m(self, address, buffer, start, end, stop)\u001b[0m\n\u001b[1;32m     50\u001b[0m \u001b[38;5;28;01mif\u001b[39;00m end \u001b[38;5;129;01mis\u001b[39;00m \u001b[38;5;28;01mNone\u001b[39;00m:\n\u001b[1;32m     51\u001b[0m     end \u001b[38;5;241m=\u001b[39m \u001b[38;5;28mlen\u001b[39m(buffer)\n\u001b[0;32m---> 52\u001b[0m \u001b[38;5;28;43mself\u001b[39;49m\u001b[38;5;241;43m.\u001b[39;49m\u001b[43m_i2c_bus\u001b[49m\u001b[38;5;241;43m.\u001b[39;49m\u001b[43mwrite_bytes\u001b[49m\u001b[43m(\u001b[49m\u001b[43maddress\u001b[49m\u001b[43m,\u001b[49m\u001b[43m \u001b[49m\u001b[43mbuffer\u001b[49m\u001b[43m[\u001b[49m\u001b[43mstart\u001b[49m\u001b[43m:\u001b[49m\u001b[43mend\u001b[49m\u001b[43m]\u001b[49m\u001b[43m)\u001b[49m\n",
      "File \u001b[0;32m/usr/local/lib/python3.8/dist-packages/Adafruit_PureIO/smbus.py:314\u001b[0m, in \u001b[0;36mSMBus.write_bytes\u001b[0;34m(self, addr, buf)\u001b[0m\n\u001b[1;32m    310\u001b[0m \u001b[38;5;28;01massert\u001b[39;00m (\n\u001b[1;32m    311\u001b[0m     \u001b[38;5;28mself\u001b[39m\u001b[38;5;241m.\u001b[39m_device \u001b[38;5;129;01mis\u001b[39;00m \u001b[38;5;129;01mnot\u001b[39;00m \u001b[38;5;28;01mNone\u001b[39;00m\n\u001b[1;32m    312\u001b[0m ), \u001b[38;5;124m\"\u001b[39m\u001b[38;5;124mBus must be opened before operations are made against it!\u001b[39m\u001b[38;5;124m\"\u001b[39m\n\u001b[1;32m    313\u001b[0m \u001b[38;5;28mself\u001b[39m\u001b[38;5;241m.\u001b[39m_select_device(addr)\n\u001b[0;32m--> 314\u001b[0m \u001b[38;5;28;43mself\u001b[39;49m\u001b[38;5;241;43m.\u001b[39;49m\u001b[43m_device\u001b[49m\u001b[38;5;241;43m.\u001b[39;49m\u001b[43mwrite\u001b[49m\u001b[43m(\u001b[49m\u001b[43mbuf\u001b[49m\u001b[43m)\u001b[49m\n",
      "\u001b[0;31mTimeoutError\u001b[0m: [Errno 110] Connection timed out"
     ]
    }
   ],
   "source": [
    "try_test(0x70)"
   ]
  },
  {
   "cell_type": "code",
   "execution_count": 166,
   "id": "63ae95cb-28f5-4262-bbea-636e090f9c61",
   "metadata": {},
   "outputs": [],
   "source": [
    "# mode 1 reset\n",
    "i2c_bus.writeto(0x40, b'\\x00')"
   ]
  },
  {
   "cell_type": "code",
   "execution_count": 167,
   "id": "d0ea9e86-b011-4e8d-82a4-7cfb6f13c318",
   "metadata": {},
   "outputs": [
    {
     "data": {
      "text/plain": [
       "'_structarray6'"
      ]
     },
     "execution_count": 167,
     "metadata": {},
     "output_type": "execute_result"
    }
   ],
   "source": [
    "\"_structarray{}\".format(0x06)"
   ]
  },
  {
   "cell_type": "code",
   "execution_count": 22,
   "id": "da6131a7-d8c1-4fec-b013-531b8ed09f84",
   "metadata": {},
   "outputs": [
    {
     "data": {
      "text/plain": [
       "4"
      ]
     },
     "execution_count": 22,
     "metadata": {},
     "output_type": "execute_result"
    }
   ],
   "source": [
    "import struct\n",
    "size = struct.calcsize('<HH')\n",
    "size"
   ]
  },
  {
   "cell_type": "code",
   "execution_count": 80,
   "id": "41446bd1-9988-44a6-aff6-e9134ffc154e",
   "metadata": {},
   "outputs": [
    {
     "data": {
      "text/plain": [
       "bytearray(b'\\x00\\x00\\x00\\x00\\x00')"
      ]
     },
     "execution_count": 80,
     "metadata": {},
     "output_type": "execute_result"
    }
   ],
   "source": [
    "buf = bytearray(size + 1)\n",
    "buf"
   ]
  },
  {
   "cell_type": "code",
   "execution_count": 81,
   "id": "b71700fb-0e60-422d-8e1d-81d106f31228",
   "metadata": {},
   "outputs": [
    {
     "data": {
      "text/plain": [
       "bytearray(b'\\x06\\x00\\x00\\x00\\x00')"
      ]
     },
     "execution_count": 81,
     "metadata": {},
     "output_type": "execute_result"
    }
   ],
   "source": [
    "index = 0\n",
    "buf[0] = 0x06 + size * index\n",
    "buf[0]\n",
    "buf"
   ]
  },
  {
   "cell_type": "code",
   "execution_count": 53,
   "id": "62f29c5c-6733-43e9-acb5-2c550be11408",
   "metadata": {},
   "outputs": [
    {
     "data": {
      "text/plain": [
       "{'min': 750, 'max': 2250}"
      ]
     },
     "execution_count": 53,
     "metadata": {},
     "output_type": "execute_result"
    }
   ],
   "source": [
    "class Pulse:\n",
    "    def __init__(self, min=750, max=2250):\n",
    "        self.min = min\n",
    "        self.max = max\n",
    "    \n",
    "    def __repr__(self):\n",
    "        return str(self.__dict__)\n",
    "    \n",
    "pulse = Pulse()\n",
    "pulse"
   ]
  },
  {
   "cell_type": "code",
   "execution_count": 64,
   "id": "5376daa7-9430-47ce-93cf-bbeb283e16aa",
   "metadata": {},
   "outputs": [
    {
     "data": {
      "text/plain": [
       "{'frequency': 50, 'min': 2457, 'max': 7372, 'scale': 4915}"
      ]
     },
     "execution_count": 64,
     "metadata": {},
     "output_type": "execute_result"
    }
   ],
   "source": [
    "class Duty:\n",
    "    def __init__(self, pulse, frequency=50):\n",
    "        self.frequency = frequency\n",
    "        self.min = self._cal_duty_(pulse.min)\n",
    "        self.max = self._cal_duty_(pulse.max)\n",
    "        self.scale = self.max - self.min\n",
    "        \n",
    "    def cal_cycle(self, value):\n",
    "        return self.min + int(value * self.scale)\n",
    "        \n",
    "    def _cal_duty_(self, pulse_value):\n",
    "        return int((pulse_value * self.frequency) / 1000000 * 0xFFFF)\n",
    "    \n",
    "    def __repr__(self):\n",
    "        return str(self.__dict__)\n",
    "\n",
    "duty = Duty(pulse)\n",
    "duty "
   ]
  },
  {
   "cell_type": "code",
   "execution_count": 65,
   "id": "05e55b3c-fe16-4dcd-8581-cea6d5945288",
   "metadata": {},
   "outputs": [
    {
     "data": {
      "text/plain": [
       "1.0"
      ]
     },
     "execution_count": 65,
     "metadata": {},
     "output_type": "execute_result"
    }
   ],
   "source": [
    "angle = 180\n",
    "angle_value = angle / 180\n",
    "angle_value"
   ]
  },
  {
   "cell_type": "code",
   "execution_count": 68,
   "id": "34f550fc-e63e-48ce-9fa3-0748447183fe",
   "metadata": {},
   "outputs": [
    {
     "data": {
      "text/plain": [
       "7372"
      ]
     },
     "execution_count": 68,
     "metadata": {},
     "output_type": "execute_result"
    }
   ],
   "source": [
    "angle_cycle = duty.cal_cycle(angle_value)\n",
    "angle_cycle"
   ]
  },
  {
   "cell_type": "code",
   "execution_count": 237,
   "id": "b5337484-4eb9-4c84-9a7b-8e417bf1585e",
   "metadata": {},
   "outputs": [
    {
     "data": {
      "text/plain": [
       "(0, 460)"
      ]
     },
     "execution_count": 237,
     "metadata": {},
     "output_type": "execute_result"
    }
   ],
   "source": [
    "value = (0, (angle_cycle + 1) >> 4)\n",
    "value"
   ]
  },
  {
   "cell_type": "code",
   "execution_count": 82,
   "id": "68ba74df-cc7a-4be9-b058-1d0faa390075",
   "metadata": {},
   "outputs": [
    {
     "data": {
      "text/plain": [
       "bytearray(b'\\x06\\x00\\x00\\xcc\\x01')"
      ]
     },
     "execution_count": 82,
     "metadata": {},
     "output_type": "execute_result"
    }
   ],
   "source": [
    "struct.pack_into('<HH', buf, 1, *value)\n",
    "buf"
   ]
  },
  {
   "cell_type": "code",
   "execution_count": 83,
   "id": "7f7853fc-cc2c-426d-ae96-31869efa0f34",
   "metadata": {},
   "outputs": [],
   "source": [
    "i2c_bus.writeto(0x40, buf)"
   ]
  },
  {
   "cell_type": "code",
   "execution_count": 243,
   "id": "094d56f3-d7ef-4473-83bb-ce0bfb7a306a",
   "metadata": {},
   "outputs": [],
   "source": [
    "def cal_angle(angle):\n",
    "    angle_value = angle / 180\n",
    "    angle_cycle = duty.cal_cycle(angle_value)\n",
    "    return (0, (angle_cycle + 1) >> 4)"
   ]
  },
  {
   "cell_type": "code",
   "execution_count": 244,
   "id": "1f43aeb6-7a84-4911-8cd8-d9001722e2a9",
   "metadata": {},
   "outputs": [
    {
     "data": {
      "text/plain": [
       "(0, 460)"
      ]
     },
     "execution_count": 244,
     "metadata": {},
     "output_type": "execute_result"
    }
   ],
   "source": [
    "cal_angle(180)"
   ]
  },
  {
   "cell_type": "code",
   "execution_count": 245,
   "id": "61a156bb-a189-49e0-bea5-8cfe17a5101c",
   "metadata": {},
   "outputs": [
    {
     "data": {
      "text/plain": [
       "(0, 307)"
      ]
     },
     "execution_count": 245,
     "metadata": {},
     "output_type": "execute_result"
    }
   ],
   "source": [
    "cal_angle(90)"
   ]
  },
  {
   "cell_type": "code",
   "execution_count": 247,
   "id": "c912f6e0-e3b5-44c2-bc34-6b7ad0f140e3",
   "metadata": {},
   "outputs": [
    {
     "data": {
      "text/plain": [
       "(0, 153)"
      ]
     },
     "execution_count": 247,
     "metadata": {},
     "output_type": "execute_result"
    }
   ],
   "source": [
    "cal_angle(0)"
   ]
  },
  {
   "cell_type": "code",
   "execution_count": 263,
   "id": "dbe09e8b-c9d4-4638-8c38-74b7d5ec8d65",
   "metadata": {},
   "outputs": [],
   "source": [
    "def cal_speed(speed):\n",
    "    speed_value = (speed + 1) / 2\n",
    "    speed_cycle = duty.cal_cycle(speed_value)\n",
    "    return (0, (speed_cycle + 1) >> 4)"
   ]
  },
  {
   "cell_type": "code",
   "execution_count": 273,
   "id": "6ab5373c-bd04-4655-9242-396ceaeee250",
   "metadata": {},
   "outputs": [
    {
     "data": {
      "text/plain": [
       "(0, 308)"
      ]
     },
     "execution_count": 273,
     "metadata": {},
     "output_type": "execute_result"
    }
   ],
   "source": [
    "cal_speed(0.01)"
   ]
  },
  {
   "cell_type": "markdown",
   "id": "3b84c4a4-c2d0-44ab-abb1-cc6102cbe005",
   "metadata": {},
   "source": [
    "#### GPIO调研"
   ]
  },
  {
   "cell_type": "code",
   "execution_count": 145,
   "id": "7fae7b66-b001-4577-b807-ea216682f834",
   "metadata": {},
   "outputs": [],
   "source": [
    "import RPi.GPIO as GPIO\n",
    "\n",
    "import time\n",
    "\n",
    "import math\n",
    "\n",
    "import smbus"
   ]
  },
  {
   "cell_type": "code",
   "execution_count": 146,
   "id": "58f51af5-ea92-48d0-b8cc-395992f6afe9",
   "metadata": {},
   "outputs": [],
   "source": [
    "MODE1 = 0x00\n",
    "PRESCALE = 0xFE"
   ]
  },
  {
   "cell_type": "code",
   "execution_count": 147,
   "id": "7c4707cd-4fd6-4c86-889e-e9cb25789ac8",
   "metadata": {},
   "outputs": [],
   "source": [
    "motor_pin = 12\n",
    "address = 0x40"
   ]
  },
  {
   "cell_type": "code",
   "execution_count": 148,
   "id": "407529e6-d185-4ab9-bb54-e843468d6c55",
   "metadata": {},
   "outputs": [
    {
     "data": {
      "text/plain": [
       "<SMBus at 0x7f6c7a5530>"
      ]
     },
     "execution_count": 148,
     "metadata": {},
     "output_type": "execute_result"
    }
   ],
   "source": [
    "bus = smbus.SMBus(1)\n",
    "bus"
   ]
  },
  {
   "cell_type": "code",
   "execution_count": 149,
   "id": "bbfdf77d-918e-4b73-b33b-437f45372020",
   "metadata": {},
   "outputs": [],
   "source": [
    "bus.write_byte_data(address, MODE1, 0x00)"
   ]
  },
  {
   "cell_type": "code",
   "execution_count": 150,
   "id": "48278834-80b1-41f2-89fc-990fc745cbad",
   "metadata": {},
   "outputs": [
    {
     "data": {
      "text/plain": [
       "0"
      ]
     },
     "execution_count": 150,
     "metadata": {},
     "output_type": "execute_result"
    }
   ],
   "source": [
    "bus.read_byte_data(address, MODE1)"
   ]
  },
  {
   "cell_type": "code",
   "execution_count": 151,
   "id": "7643b2c2-29f6-4aa4-b52c-fee2e09687c3",
   "metadata": {},
   "outputs": [
    {
     "data": {
      "text/plain": [
       "121.0703125"
      ]
     },
     "execution_count": 151,
     "metadata": {},
     "output_type": "execute_result"
    }
   ],
   "source": [
    "freq = 50\n",
    "prescaleval = 25000000.0  # 25MHz\n",
    "prescaleval /= 4096.0   # 12-bit\n",
    "prescaleval /= float(freq)\n",
    "prescaleval -= 1.0\n",
    "prescaleval"
   ]
  },
  {
   "cell_type": "code",
   "execution_count": 152,
   "id": "ea35fe2d-ac02-4cea-a1a1-0690223749fb",
   "metadata": {},
   "outputs": [
    {
     "data": {
      "text/plain": [
       "121"
      ]
     },
     "execution_count": 152,
     "metadata": {},
     "output_type": "execute_result"
    }
   ],
   "source": [
    "prescale = math.floor(prescaleval + 0.5)\n",
    "prescale"
   ]
  },
  {
   "cell_type": "code",
   "execution_count": 153,
   "id": "e749f67c-9a46-4326-84a0-0df8efd66e57",
   "metadata": {},
   "outputs": [
    {
     "data": {
      "text/plain": [
       "0"
      ]
     },
     "execution_count": 153,
     "metadata": {},
     "output_type": "execute_result"
    }
   ],
   "source": [
    "oldmode = bus.read_byte_data(address, MODE1)\n",
    "oldmode"
   ]
  },
  {
   "cell_type": "code",
   "execution_count": 154,
   "id": "e4515774-3189-413f-950a-11571e511035",
   "metadata": {},
   "outputs": [
    {
     "data": {
      "text/plain": [
       "16"
      ]
     },
     "execution_count": 154,
     "metadata": {},
     "output_type": "execute_result"
    }
   ],
   "source": [
    "newmode = (oldmode & 0x7F) | 0x10# sleep\n",
    "newmode"
   ]
  },
  {
   "cell_type": "code",
   "execution_count": 155,
   "id": "35ce43ca-e29a-4bbb-a5ed-1018ceea9781",
   "metadata": {},
   "outputs": [
    {
     "data": {
      "text/plain": [
       "144"
      ]
     },
     "execution_count": 155,
     "metadata": {},
     "output_type": "execute_result"
    }
   ],
   "source": [
    "bus.write_byte_data(address, MODE1, newmode)\n",
    "bus.read_byte_data(address, MODE1)"
   ]
  },
  {
   "cell_type": "code",
   "execution_count": 156,
   "id": "743c2e68-ef6a-45d8-84d6-f27479ed5533",
   "metadata": {},
   "outputs": [
    {
     "data": {
      "text/plain": [
       "121"
      ]
     },
     "execution_count": 156,
     "metadata": {},
     "output_type": "execute_result"
    }
   ],
   "source": [
    "bus.write_byte_data(address, PRESCALE, prescale)\n",
    "bus.read_byte_data(address, PRESCALE)"
   ]
  },
  {
   "cell_type": "code",
   "execution_count": 157,
   "id": "63d9d7e1-06c5-4fe3-b467-eb572bdb27e6",
   "metadata": {},
   "outputs": [
    {
     "data": {
      "text/plain": [
       "128"
      ]
     },
     "execution_count": 157,
     "metadata": {},
     "output_type": "execute_result"
    }
   ],
   "source": [
    "bus.write_byte_data(address, MODE1, oldmode)\n",
    "bus.read_byte_data(address, MODE1)"
   ]
  },
  {
   "cell_type": "code",
   "execution_count": 158,
   "id": "19967267-6be7-42df-8d2c-f937d99cd0b0",
   "metadata": {},
   "outputs": [
    {
     "data": {
      "text/plain": [
       "128"
      ]
     },
     "execution_count": 158,
     "metadata": {},
     "output_type": "execute_result"
    }
   ],
   "source": [
    "startmode = oldmode | 0x80\n",
    "startmode"
   ]
  },
  {
   "cell_type": "code",
   "execution_count": 159,
   "id": "e35efe9f-6c8f-4b1e-9a81-4b486bb4c4b4",
   "metadata": {},
   "outputs": [
    {
     "data": {
      "text/plain": [
       "0"
      ]
     },
     "execution_count": 159,
     "metadata": {},
     "output_type": "execute_result"
    }
   ],
   "source": [
    "time.sleep(0.005)\n",
    "bus.write_byte_data(address, MODE1, startmode)\n",
    "bus.read_byte_data(address, MODE1)"
   ]
  },
  {
   "cell_type": "code",
   "execution_count": 160,
   "id": "e290be81-524e-4e59-a47f-71f18c5e7339",
   "metadata": {},
   "outputs": [],
   "source": [
    "GPIO.setmode(GPIO.BOARD)\n",
    "GPIO.setup(motor_pin,GPIO.OUT)"
   ]
  },
  {
   "cell_type": "code",
   "execution_count": 161,
   "id": "68fcd441-1bb0-47a8-a5ea-36b5f34a6c77",
   "metadata": {},
   "outputs": [
    {
     "data": {
      "text/plain": [
       "10240.0"
      ]
     },
     "execution_count": 161,
     "metadata": {},
     "output_type": "execute_result"
    }
   ],
   "source": [
    "pulse = 50000\n",
    "pulse = pulse*4096/20000 \n",
    "pulse"
   ]
  },
  {
   "cell_type": "code",
   "execution_count": 162,
   "id": "1b1caaa3-99f9-4e69-ab4f-8e982f413ab6",
   "metadata": {},
   "outputs": [
    {
     "data": {
      "text/plain": [
       "(0, 10240)"
      ]
     },
     "execution_count": 162,
     "metadata": {},
     "output_type": "execute_result"
    }
   ],
   "source": [
    "on = 0\n",
    "off = int(pulse)\n",
    "(on, off)"
   ]
  },
  {
   "cell_type": "code",
   "execution_count": 163,
   "id": "4bcf2c6b-d0d0-460f-aa13-ed15b310ebcb",
   "metadata": {},
   "outputs": [],
   "source": [
    "LED0_ON_L = 0x06\n",
    "LED0_ON_H = 0x07\n",
    "LED0_OFF_L = 0x08\n",
    "LED0_OFF_H = 0x09"
   ]
  },
  {
   "cell_type": "code",
   "execution_count": 164,
   "id": "221f4733-2433-4979-a20b-2ddb7c102374",
   "metadata": {},
   "outputs": [
    {
     "data": {
      "text/plain": [
       "0"
      ]
     },
     "execution_count": 164,
     "metadata": {},
     "output_type": "execute_result"
    }
   ],
   "source": [
    "bus.write_byte_data(address, LED0_ON_L, on & 0xFF )\n",
    "bus.read_byte_data(address, LED0_ON_L)"
   ]
  },
  {
   "cell_type": "code",
   "execution_count": 165,
   "id": "71a7efe0-f8de-494f-b887-2adb4e5b8a02",
   "metadata": {},
   "outputs": [
    {
     "data": {
      "text/plain": [
       "0"
      ]
     },
     "execution_count": 165,
     "metadata": {},
     "output_type": "execute_result"
    }
   ],
   "source": [
    "bus.write_byte_data(address, LED0_ON_H, on >> 8)\n",
    "bus.read_byte_data(address, LED0_ON_H)"
   ]
  },
  {
   "cell_type": "code",
   "execution_count": 166,
   "id": "0232d0b4-68c4-4f0d-a1a3-2fde5a33cccd",
   "metadata": {},
   "outputs": [
    {
     "data": {
      "text/plain": [
       "0"
      ]
     },
     "execution_count": 166,
     "metadata": {},
     "output_type": "execute_result"
    }
   ],
   "source": [
    "bus.write_byte_data(address, LED0_OFF_L, off & 0xFF)\n",
    "bus.read_byte_data(address, LED0_OFF_L)"
   ]
  },
  {
   "cell_type": "code",
   "execution_count": 167,
   "id": "98544407-9341-4f13-8681-21b9878eb98a",
   "metadata": {},
   "outputs": [
    {
     "data": {
      "text/plain": [
       "8"
      ]
     },
     "execution_count": 167,
     "metadata": {},
     "output_type": "execute_result"
    }
   ],
   "source": [
    "bus.write_byte_data(address, LED0_OFF_H, off >> 8)\n",
    "bus.read_byte_data(address, LED0_OFF_H)"
   ]
  },
  {
   "cell_type": "code",
   "execution_count": 169,
   "id": "85e6842e-c135-4ce1-9a22-b629583b68cc",
   "metadata": {},
   "outputs": [],
   "source": [
    "GPIO.output(motor_pin,GPIO.LOW)"
   ]
  },
  {
   "cell_type": "code",
   "execution_count": 182,
   "id": "d02abe26-1dd5-4a08-a509-b0e681752e40",
   "metadata": {},
   "outputs": [
    {
     "data": {
      "text/plain": [
       "{'P1_REVISION': 1,\n",
       " 'RAM': '4096M',\n",
       " 'REVISION': 'Unknown',\n",
       " 'TYPE': 'Jetson Nano',\n",
       " 'MANUFACTURER': 'NVIDIA',\n",
       " 'PROCESSOR': 'ARM A57'}"
      ]
     },
     "execution_count": 182,
     "metadata": {},
     "output_type": "execute_result"
    }
   ],
   "source": [
    "GPIO.JETSON_INFO"
   ]
  },
  {
   "cell_type": "code",
   "execution_count": 185,
   "id": "99113830-21d0-47ec-9b21-0fee50d27a48",
   "metadata": {},
   "outputs": [],
   "source": [
    "GPIO.getmode()"
   ]
  },
  {
   "cell_type": "code",
   "execution_count": 184,
   "id": "c5e557a0-939c-4d6e-9337-d81610619247",
   "metadata": {},
   "outputs": [],
   "source": [
    "GPIO.cleanup()"
   ]
  },
  {
   "cell_type": "code",
   "execution_count": 189,
   "id": "6abe99a1-5990-4db5-8e59-8a0c51a94c2c",
   "metadata": {},
   "outputs": [],
   "source": [
    "GPIO.setmode(GPIO.TEGRA_SOC)"
   ]
  },
  {
   "cell_type": "markdown",
   "id": "f6c36ebb-4fb1-442a-a6c9-e63cd1f933be",
   "metadata": {},
   "source": [
    "#### 舵机调研"
   ]
  },
  {
   "cell_type": "code",
   "execution_count": 8,
   "id": "259862c0-6e55-44e4-936a-06d91bae5e7a",
   "metadata": {},
   "outputs": [],
   "source": [
    "import time\n",
    "from board import SCL, SDA\n",
    "import busio\n",
    "from adafruit_motor import servo\n",
    "from adafruit_pca9685 import PCA9685"
   ]
  },
  {
   "cell_type": "code",
   "execution_count": 2,
   "id": "5c575de3-77e7-492d-ae6f-584f2779a924",
   "metadata": {},
   "outputs": [
    {
     "data": {
      "text/plain": [
       "<busio.I2C at 0x7f8d6b2460>"
      ]
     },
     "execution_count": 2,
     "metadata": {},
     "output_type": "execute_result"
    }
   ],
   "source": [
    "i2c = busio.I2C(SCL, SDA)\n",
    "i2c"
   ]
  },
  {
   "cell_type": "code",
   "execution_count": 3,
   "id": "2e9b5b29-05b8-4c0f-aff3-108729c9d3be",
   "metadata": {},
   "outputs": [
    {
     "data": {
      "text/plain": [
       "<adafruit_pca9685.PCA9685 at 0x7f9c03f520>"
      ]
     },
     "execution_count": 3,
     "metadata": {},
     "output_type": "execute_result"
    }
   ],
   "source": [
    "pca = PCA9685(i2c)\n",
    "pca"
   ]
  },
  {
   "cell_type": "code",
   "execution_count": 4,
   "id": "b65d0d7f-895c-43e4-adb0-a315b0d4b7ca",
   "metadata": {},
   "outputs": [],
   "source": [
    "pca.frequency = 50"
   ]
  },
  {
   "cell_type": "code",
   "execution_count": 5,
   "id": "9053eaea-7b23-4de7-ab8e-466f2edee5ba",
   "metadata": {},
   "outputs": [
    {
     "data": {
      "text/plain": [
       "<adafruit_motor.servo.Servo at 0x7f9c03fd60>"
      ]
     },
     "execution_count": 5,
     "metadata": {},
     "output_type": "execute_result"
    }
   ],
   "source": [
    "servo_0 = servo.Servo(pca.channels[0], min_pulse=500, max_pulse=2500)\n",
    "servo_0"
   ]
  },
  {
   "cell_type": "code",
   "execution_count": 9,
   "id": "17023e92-7f86-4b60-95ba-561e22a6cdc2",
   "metadata": {},
   "outputs": [],
   "source": [
    "servo_0.angle = 0\n",
    "time.sleep(1)\n",
    "servo_0.angle = 180\n",
    "time.sleep(1)\n",
    "servo_0.angle = 90"
   ]
  },
  {
   "cell_type": "code",
   "execution_count": 21,
   "id": "a36b03d5-32c0-44d9-b108-947262fab0b9",
   "metadata": {},
   "outputs": [
    {
     "data": {
      "text/plain": [
       "<adafruit_motor.servo.ContinuousServo at 0x7f8d76f4c0>"
      ]
     },
     "execution_count": 21,
     "metadata": {},
     "output_type": "execute_result"
    }
   ],
   "source": [
    "servo_1 = servo.ContinuousServo(pca.channels[1], min_pulse=750, max_pulse=2250)\n",
    "servo_1"
   ]
  },
  {
   "cell_type": "code",
   "execution_count": 85,
   "id": "a888e6d6-94b6-4be1-9dd9-6b0044f442ca",
   "metadata": {},
   "outputs": [
    {
     "ename": "KeyboardInterrupt",
     "evalue": "",
     "output_type": "error",
     "traceback": [
      "\u001b[0;31m---------------------------------------------------------------------------\u001b[0m",
      "\u001b[0;31mKeyboardInterrupt\u001b[0m                         Traceback (most recent call last)",
      "Input \u001b[0;32mIn [85]\u001b[0m, in \u001b[0;36m<cell line: 4>\u001b[0;34m()\u001b[0m\n\u001b[1;32m      3\u001b[0m \u001b[38;5;28;01mwhile\u001b[39;00m \u001b[38;5;28;01mTrue\u001b[39;00m:\n\u001b[1;32m      4\u001b[0m     servo_1\u001b[38;5;241m.\u001b[39mthrottle \u001b[38;5;241m=\u001b[39m \u001b[38;5;241m0.005\u001b[39m\n\u001b[0;32m----> 5\u001b[0m     servo_1\u001b[38;5;241m.\u001b[39mthrottle \u001b[38;5;241m=\u001b[39m \u001b[38;5;241m0.0\u001b[39m\n",
      "File \u001b[0;32m/usr/local/lib/python3.8/dist-packages/adafruit_motor/servo.py:159\u001b[0m, in \u001b[0;36mContinuousServo.throttle\u001b[0;34m(self, value)\u001b[0m\n\u001b[1;32m    157\u001b[0m \u001b[38;5;28;01mif\u001b[39;00m value \u001b[38;5;129;01mis\u001b[39;00m \u001b[38;5;28;01mNone\u001b[39;00m:\n\u001b[1;32m    158\u001b[0m     \u001b[38;5;28;01mraise\u001b[39;00m \u001b[38;5;167;01mValueError\u001b[39;00m(\u001b[38;5;124m\"\u001b[39m\u001b[38;5;124mContinuous servos cannot spin freely\u001b[39m\u001b[38;5;124m\"\u001b[39m)\n\u001b[0;32m--> 159\u001b[0m \u001b[38;5;28mself\u001b[39m\u001b[38;5;241m.\u001b[39mfraction \u001b[38;5;241m=\u001b[39m (value \u001b[38;5;241m+\u001b[39m \u001b[38;5;241m1\u001b[39m) \u001b[38;5;241m/\u001b[39m \u001b[38;5;241m2\u001b[39m\n",
      "File \u001b[0;32m/usr/local/lib/python3.8/dist-packages/adafruit_motor/servo.py:73\u001b[0m, in \u001b[0;36m_BaseServo.fraction\u001b[0;34m(self, value)\u001b[0m\n\u001b[1;32m     71\u001b[0m     \u001b[38;5;28;01mraise\u001b[39;00m \u001b[38;5;167;01mValueError\u001b[39;00m(\u001b[38;5;124m\"\u001b[39m\u001b[38;5;124mMust be 0.0 to 1.0\u001b[39m\u001b[38;5;124m\"\u001b[39m)\n\u001b[1;32m     72\u001b[0m duty_cycle \u001b[38;5;241m=\u001b[39m \u001b[38;5;28mself\u001b[39m\u001b[38;5;241m.\u001b[39m_min_duty \u001b[38;5;241m+\u001b[39m \u001b[38;5;28mint\u001b[39m(value \u001b[38;5;241m*\u001b[39m \u001b[38;5;28mself\u001b[39m\u001b[38;5;241m.\u001b[39m_duty_range)\n\u001b[0;32m---> 73\u001b[0m \u001b[38;5;28mself\u001b[39m\u001b[38;5;241m.\u001b[39m_pwm_out\u001b[38;5;241m.\u001b[39mduty_cycle \u001b[38;5;241m=\u001b[39m duty_cycle\n",
      "File \u001b[0;32m/usr/local/lib/python3.8/dist-packages/adafruit_pca9685.py:92\u001b[0m, in \u001b[0;36mPWMChannel.duty_cycle\u001b[0;34m(self, value)\u001b[0m\n\u001b[1;32m     89\u001b[0m \u001b[38;5;28;01melse\u001b[39;00m:\n\u001b[1;32m     90\u001b[0m     \u001b[38;5;66;03m# Shift our value by four because the PCA9685 is only 12 bits but our value is 16\u001b[39;00m\n\u001b[1;32m     91\u001b[0m     value \u001b[38;5;241m=\u001b[39m (value \u001b[38;5;241m+\u001b[39m \u001b[38;5;241m1\u001b[39m) \u001b[38;5;241m>>\u001b[39m \u001b[38;5;241m4\u001b[39m\n\u001b[0;32m---> 92\u001b[0m     \u001b[38;5;28mself\u001b[39m\u001b[38;5;241m.\u001b[39m_pca\u001b[38;5;241m.\u001b[39mpwm_regs[\u001b[38;5;28mself\u001b[39m\u001b[38;5;241m.\u001b[39m_index] \u001b[38;5;241m=\u001b[39m (\u001b[38;5;241m0\u001b[39m, value)\n",
      "File \u001b[0;32m/usr/local/lib/python3.8/dist-packages/adafruit_register/i2c_struct_array.py:58\u001b[0m, in \u001b[0;36m_BoundStructArray.__setitem__\u001b[0;34m(self, index, value)\u001b[0m\n\u001b[1;32m     56\u001b[0m struct\u001b[38;5;241m.\u001b[39mpack_into(\u001b[38;5;28mself\u001b[39m\u001b[38;5;241m.\u001b[39mformat, buf, \u001b[38;5;241m1\u001b[39m, \u001b[38;5;241m*\u001b[39mvalue)\n\u001b[1;32m     57\u001b[0m \u001b[38;5;28;01mwith\u001b[39;00m \u001b[38;5;28mself\u001b[39m\u001b[38;5;241m.\u001b[39mobj\u001b[38;5;241m.\u001b[39mi2c_device \u001b[38;5;28;01mas\u001b[39;00m i2c:\n\u001b[0;32m---> 58\u001b[0m     \u001b[43mi2c\u001b[49m\u001b[38;5;241;43m.\u001b[39;49m\u001b[43mwrite\u001b[49m\u001b[43m(\u001b[49m\u001b[43mbuf\u001b[49m\u001b[43m)\u001b[49m\n",
      "File \u001b[0;32m/usr/local/lib/python3.8/dist-packages/adafruit_bus_device/i2c_device.py:99\u001b[0m, in \u001b[0;36mI2CDevice.write\u001b[0;34m(self, buf, start, end)\u001b[0m\n\u001b[1;32m     97\u001b[0m \u001b[38;5;28;01mif\u001b[39;00m end \u001b[38;5;129;01mis\u001b[39;00m \u001b[38;5;28;01mNone\u001b[39;00m:\n\u001b[1;32m     98\u001b[0m     end \u001b[38;5;241m=\u001b[39m \u001b[38;5;28mlen\u001b[39m(buf)\n\u001b[0;32m---> 99\u001b[0m \u001b[38;5;28;43mself\u001b[39;49m\u001b[38;5;241;43m.\u001b[39;49m\u001b[43mi2c\u001b[49m\u001b[38;5;241;43m.\u001b[39;49m\u001b[43mwriteto\u001b[49m\u001b[43m(\u001b[49m\u001b[38;5;28;43mself\u001b[39;49m\u001b[38;5;241;43m.\u001b[39;49m\u001b[43mdevice_address\u001b[49m\u001b[43m,\u001b[49m\u001b[43m \u001b[49m\u001b[43mbuf\u001b[49m\u001b[43m,\u001b[49m\u001b[43m \u001b[49m\u001b[43mstart\u001b[49m\u001b[38;5;241;43m=\u001b[39;49m\u001b[43mstart\u001b[49m\u001b[43m,\u001b[49m\u001b[43m \u001b[49m\u001b[43mend\u001b[49m\u001b[38;5;241;43m=\u001b[39;49m\u001b[43mend\u001b[49m\u001b[43m)\u001b[49m\n",
      "File \u001b[0;32m/usr/local/lib/python3.8/dist-packages/busio.py:168\u001b[0m, in \u001b[0;36mI2C.writeto\u001b[0;34m(self, address, buffer, start, end, stop)\u001b[0m\n\u001b[1;32m    166\u001b[0m     \u001b[38;5;28;01mif\u001b[39;00m end \u001b[38;5;129;01mis\u001b[39;00m \u001b[38;5;28;01mNone\u001b[39;00m:\n\u001b[1;32m    167\u001b[0m         \u001b[38;5;28;01mreturn\u001b[39;00m \u001b[38;5;28mself\u001b[39m\u001b[38;5;241m.\u001b[39m_i2c\u001b[38;5;241m.\u001b[39mwriteto(address, \u001b[38;5;28mmemoryview\u001b[39m(buffer)[start:], stop\u001b[38;5;241m=\u001b[39mstop)\n\u001b[0;32m--> 168\u001b[0m     \u001b[38;5;28;01mreturn\u001b[39;00m \u001b[38;5;28;43mself\u001b[39;49m\u001b[38;5;241;43m.\u001b[39;49m\u001b[43m_i2c\u001b[49m\u001b[38;5;241;43m.\u001b[39;49m\u001b[43mwriteto\u001b[49m\u001b[43m(\u001b[49m\u001b[43maddress\u001b[49m\u001b[43m,\u001b[49m\u001b[43m \u001b[49m\u001b[38;5;28;43mmemoryview\u001b[39;49m\u001b[43m(\u001b[49m\u001b[43mbuffer\u001b[49m\u001b[43m)\u001b[49m\u001b[43m[\u001b[49m\u001b[43mstart\u001b[49m\u001b[43m:\u001b[49m\u001b[43mend\u001b[49m\u001b[43m]\u001b[49m\u001b[43m,\u001b[49m\u001b[43m \u001b[49m\u001b[43mstop\u001b[49m\u001b[38;5;241;43m=\u001b[39;49m\u001b[43mstop\u001b[49m\u001b[43m)\u001b[49m\n\u001b[1;32m    169\u001b[0m \u001b[38;5;28;01mreturn\u001b[39;00m \u001b[38;5;28mself\u001b[39m\u001b[38;5;241m.\u001b[39m_i2c\u001b[38;5;241m.\u001b[39mwriteto(address, buffer, stop\u001b[38;5;241m=\u001b[39mstop)\n",
      "File \u001b[0;32m/usr/local/lib/python3.8/dist-packages/adafruit_blinka/microcontroller/generic_linux/i2c.py:52\u001b[0m, in \u001b[0;36mI2C.writeto\u001b[0;34m(self, address, buffer, start, end, stop)\u001b[0m\n\u001b[1;32m     50\u001b[0m \u001b[38;5;28;01mif\u001b[39;00m end \u001b[38;5;129;01mis\u001b[39;00m \u001b[38;5;28;01mNone\u001b[39;00m:\n\u001b[1;32m     51\u001b[0m     end \u001b[38;5;241m=\u001b[39m \u001b[38;5;28mlen\u001b[39m(buffer)\n\u001b[0;32m---> 52\u001b[0m \u001b[38;5;28;43mself\u001b[39;49m\u001b[38;5;241;43m.\u001b[39;49m\u001b[43m_i2c_bus\u001b[49m\u001b[38;5;241;43m.\u001b[39;49m\u001b[43mwrite_bytes\u001b[49m\u001b[43m(\u001b[49m\u001b[43maddress\u001b[49m\u001b[43m,\u001b[49m\u001b[43m \u001b[49m\u001b[43mbuffer\u001b[49m\u001b[43m[\u001b[49m\u001b[43mstart\u001b[49m\u001b[43m:\u001b[49m\u001b[43mend\u001b[49m\u001b[43m]\u001b[49m\u001b[43m)\u001b[49m\n",
      "File \u001b[0;32m/usr/local/lib/python3.8/dist-packages/Adafruit_PureIO/smbus.py:314\u001b[0m, in \u001b[0;36mSMBus.write_bytes\u001b[0;34m(self, addr, buf)\u001b[0m\n\u001b[1;32m    310\u001b[0m \u001b[38;5;28;01massert\u001b[39;00m (\n\u001b[1;32m    311\u001b[0m     \u001b[38;5;28mself\u001b[39m\u001b[38;5;241m.\u001b[39m_device \u001b[38;5;129;01mis\u001b[39;00m \u001b[38;5;129;01mnot\u001b[39;00m \u001b[38;5;28;01mNone\u001b[39;00m\n\u001b[1;32m    312\u001b[0m ), \u001b[38;5;124m\"\u001b[39m\u001b[38;5;124mBus must be opened before operations are made against it!\u001b[39m\u001b[38;5;124m\"\u001b[39m\n\u001b[1;32m    313\u001b[0m \u001b[38;5;28mself\u001b[39m\u001b[38;5;241m.\u001b[39m_select_device(addr)\n\u001b[0;32m--> 314\u001b[0m \u001b[38;5;28;43mself\u001b[39;49m\u001b[38;5;241;43m.\u001b[39;49m\u001b[43m_device\u001b[49m\u001b[38;5;241;43m.\u001b[39;49m\u001b[43mwrite\u001b[49m\u001b[43m(\u001b[49m\u001b[43mbuf\u001b[49m\u001b[43m)\u001b[49m\n",
      "\u001b[0;31mKeyboardInterrupt\u001b[0m: "
     ]
    }
   ],
   "source": [
    "servo_1.throttle = 0.0\n",
    "time.sleep(1)\n",
    "while True:\n",
    "    servo_1.throttle = 0.005\n",
    "    servo_1.throttle = 0.0"
   ]
  },
  {
   "cell_type": "code",
   "execution_count": null,
   "id": "5c63471b-b27b-4664-88c5-e4cf250fc0ed",
   "metadata": {},
   "outputs": [],
   "source": [
    "servo_1.throttle = 0.0"
   ]
  },
  {
   "cell_type": "code",
   "execution_count": 47,
   "id": "46c79156-fdda-4dd8-aae2-204797338aff",
   "metadata": {},
   "outputs": [],
   "source": [
    "acc = -0.01\n",
    "min_speed = -0.2\n",
    "speed = -0.13\n",
    "while True:\n",
    "    if speed < min_speed:\n",
    "        servo_1.throttle = 0.0\n",
    "        break\n",
    "    servo_1.throttle = speed\n",
    "    time.sleep(0.5)\n",
    "    speed += acc"
   ]
  },
  {
   "cell_type": "markdown",
   "id": "eb8aa225-cb26-4af1-9510-e76d3b32f0fc",
   "metadata": {},
   "source": [
    "#### 端到端最少依赖库实现"
   ]
  },
  {
   "cell_type": "code",
   "execution_count": 57,
   "id": "2bb6461a-ee90-42e6-9cb0-b6481f58ed41",
   "metadata": {},
   "outputs": [],
   "source": [
    "import sys\n",
    "import logging\n",
    "FORMAT = '%(levelname)s %(asctime)s [%(filename)s:%(lineno)d]: %(message)s'\n",
    "logging.basicConfig(format=FORMAT, stream=sys.stdout, level=logging.DEBUG)\n",
    "logger = logging.getLogger()\n",
    "import math\n",
    "import time\n",
    "import struct\n",
    "import board\n",
    "\n",
    "class AutoCar:\n",
    "    class Register:\n",
    "        def __init__(self, i2c, device_address, register_address, struct_format, is_array = False, index = 0):\n",
    "            self.i2c = i2c\n",
    "            self.device_address = device_address\n",
    "            self.struct_format = struct_format\n",
    "            self.register_address = register_address\n",
    "            self.index = index\n",
    "            self.is_array = is_array\n",
    "            self.buffer = self._create_buffer_()\n",
    "            \n",
    "        def write(self, value):\n",
    "            if self.is_array:\n",
    "                struct.pack_into(self.struct_format, self.buffer, 1, *value)\n",
    "            else:\n",
    "                struct.pack_into(self.struct_format, self.buffer, 1, value)\n",
    "            logger.debug(f'{self.register_address} write {self.buffer}')\n",
    "            self.i2c.writeto(self.device_address, self.buffer)\n",
    "            \n",
    "        def read(self):\n",
    "            buf = self._create_buffer_()\n",
    "            self.i2c.writeto_then_readfrom(self.device_address, buf, buf, out_start=0, out_end=1, in_start=1, in_end=None)\n",
    "            return struct.unpack_from(self.struct_format, buf, 1)[0]\n",
    "        \n",
    "        def _create_buffer_(self):\n",
    "            size = struct.calcsize(self.struct_format)\n",
    "            buffer = bytearray(1 + size)\n",
    "            if self.is_array:\n",
    "                buffer[0] = self.register_address + size * self.index\n",
    "            else:\n",
    "                buffer[0] = self.register_address\n",
    "            return buffer\n",
    "            \n",
    "        def __repr__(self):\n",
    "            return str(self.__dict__)\n",
    "            \n",
    "    def __init__(self, device_address=0x40, clock_speed = 25000000, frequency = 50):   \n",
    "        self.i2c = board.I2C()\n",
    "        self.device_address = device_address\n",
    "        self.clock_speed = clock_speed\n",
    "        self.frequency = frequency\n",
    "        self.prescale_value = math.floor(self.clock_speed / 4096.0 / self.frequency + 0.5)\n",
    "        self._alive_()\n",
    "        self.mode = AutoCar.Register(self.i2c, device_address, 0x00, '<B')\n",
    "        self.prescale =  AutoCar.Register(self.i2c, device_address, 0xFE, '<B')\n",
    "        self.pwm_0 = AutoCar.Register(self.i2c, device_address, 0x06, '<HH', True)\n",
    "        self.pwm_1 = AutoCar.Register(self.i2c, device_address, 0x06, '<HH', True, 1)\n",
    "        \n",
    "        \n",
    "    def _alive_(self):\n",
    "        while not self.i2c.try_lock():\n",
    "            pass\n",
    "        try:\n",
    "            self.i2c.writeto(self.device_address, b'')\n",
    "        except OSError:\n",
    "            try:\n",
    "                result = bytearray(1)\n",
    "                self.i2c.readfrom_into(self.device_address, result)\n",
    "                logger.debug(f'probe device result: {result}')\n",
    "            except OSError:\n",
    "                raise ValueError(\"No I2C device at address: 0x%x\" % self.device_address)\n",
    "        finally:\n",
    "            self.i2c.unlock()\n",
    "        \n",
    "    def load(self):\n",
    "        self.reset()\n",
    "        old_mode_val = self.mode.read()\n",
    "        logger.debug(f'load - mode value: {old_mode_val}')\n",
    "        sleep_mode_val = (old_mode_val & 0x7F) | 0x10\n",
    "        logger.debug(f'load - set sleep mode: {sleep_mode_val}')\n",
    "        self.mode.write(sleep_mode_val)\n",
    "        mode_val = self.mode.read()\n",
    "        logger.debug(f'load - get sleep mode: {mode_val}')\n",
    "        self.prescale.write(self.prescale_value)\n",
    "        val = self.prescale.read()\n",
    "        logger.debug(f'load - prescale_value: {val}')\n",
    "        self.mode.write(old_mode_val)\n",
    "        val = self.mode.read()\n",
    "        logger.debug(f'load - reset old_mode_val: {val}')\n",
    "        time.sleep(0.005)\n",
    "        start_mode = old_mode_val | 0xA0\n",
    "        self.mode.write(start_mode)\n",
    "        val = self.mode.read()\n",
    "        logger.debug(f'load - start_mode: {val}')\n",
    "        \n",
    "        \n",
    "    def reset(self):\n",
    "        self.mode.write(0x00)\n",
    "    \n",
    "    def _acquire_(self):\n",
    "        while not self.i2c.try_lock():\n",
    "            return False\n",
    "        return True\n",
    "    \n",
    "    def __repr__(self):\n",
    "        return str(self.__dict__)"
   ]
  },
  {
   "cell_type": "code",
   "execution_count": 58,
   "id": "fdd6a74b-5d38-4662-b65c-e1e135bf3fb7",
   "metadata": {},
   "outputs": [
    {
     "name": "stdout",
     "output_type": "stream",
     "text": [
      "DEBUG 2022-06-29 13:16:31,426 [1680650265.py:69]: probe device result: bytearray(b'\\x00')\n"
     ]
    },
    {
     "data": {
      "text/plain": [
       "{'i2c': <busio.I2C object at 0x7f8c9d9700>, 'device_address': 64, 'clock_speed': 25000000, 'frequency': 50, 'prescale_value': 122, 'mode': {'i2c': <busio.I2C object at 0x7f8c9d9700>, 'device_address': 64, 'struct_format': '<B', 'register_address': 0, 'index': 0, 'is_array': False, 'buffer': bytearray(b'\\x00\\x00')}, 'prescale': {'i2c': <busio.I2C object at 0x7f8c9d9700>, 'device_address': 64, 'struct_format': '<B', 'register_address': 254, 'index': 0, 'is_array': False, 'buffer': bytearray(b'\\xfe\\x00')}, 'pwm_0': {'i2c': <busio.I2C object at 0x7f8c9d9700>, 'device_address': 64, 'struct_format': '<HH', 'register_address': 6, 'index': 0, 'is_array': True, 'buffer': bytearray(b'\\x06\\x00\\x00\\x00\\x00')}, 'pwm_1': {'i2c': <busio.I2C object at 0x7f8c9d9700>, 'device_address': 64, 'struct_format': '<HH', 'register_address': 6, 'index': 1, 'is_array': True, 'buffer': bytearray(b'\\n\\x00\\x00\\x00\\x00')}}"
      ]
     },
     "execution_count": 58,
     "metadata": {},
     "output_type": "execute_result"
    }
   ],
   "source": [
    "auto_car = AutoCar()\n",
    "auto_car"
   ]
  },
  {
   "cell_type": "code",
   "execution_count": 59,
   "id": "75f4076e-e6f3-4776-83bb-dc15aae6baff",
   "metadata": {},
   "outputs": [
    {
     "name": "stdout",
     "output_type": "stream",
     "text": [
      "DEBUG 2022-06-29 13:16:31,452 [1680650265.py:27]: 0 write bytearray(b'\\x00\\x00')\n",
      "DEBUG 2022-06-29 13:16:31,457 [1680650265.py:78]: load - mode value: 0\n",
      "DEBUG 2022-06-29 13:16:31,458 [1680650265.py:80]: load - set sleep mode: 16\n",
      "DEBUG 2022-06-29 13:16:31,460 [1680650265.py:27]: 0 write bytearray(b'\\x00\\x10')\n",
      "DEBUG 2022-06-29 13:16:31,464 [1680650265.py:83]: load - get sleep mode: 144\n",
      "DEBUG 2022-06-29 13:16:31,467 [1680650265.py:27]: 254 write bytearray(b'\\xfez')\n",
      "DEBUG 2022-06-29 13:16:31,470 [1680650265.py:86]: load - prescale_value: 122\n",
      "DEBUG 2022-06-29 13:16:31,473 [1680650265.py:27]: 0 write bytearray(b'\\x00\\x00')\n",
      "DEBUG 2022-06-29 13:16:31,476 [1680650265.py:89]: load - reset old_mode_val: 128\n",
      "DEBUG 2022-06-29 13:16:31,483 [1680650265.py:27]: 0 write bytearray(b'\\x00\\xa0')\n",
      "DEBUG 2022-06-29 13:16:31,486 [1680650265.py:94]: load - start_mode: 32\n"
     ]
    }
   ],
   "source": [
    "auto_car.load()"
   ]
  },
  {
   "cell_type": "code",
   "execution_count": 60,
   "id": "392ea568-35d2-4e87-8422-312b665a63e7",
   "metadata": {},
   "outputs": [
    {
     "name": "stdout",
     "output_type": "stream",
     "text": [
      "DEBUG 2022-06-29 13:16:34,589 [1680650265.py:27]: 6 write bytearray(b'\\x06\\x00\\x00\\xcc\\x01')\n"
     ]
    }
   ],
   "source": [
    "#(0, 460)\n",
    "auto_car.pwm_0.write((0, 460))"
   ]
  },
  {
   "cell_type": "code",
   "execution_count": 61,
   "id": "fda207f8-29e2-4dbc-8b44-c60e30de73f4",
   "metadata": {},
   "outputs": [
    {
     "name": "stdout",
     "output_type": "stream",
     "text": [
      "DEBUG 2022-06-29 13:16:39,112 [1680650265.py:27]: 6 write bytearray(b'\\x06\\x00\\x003\\x01')\n"
     ]
    }
   ],
   "source": [
    "auto_car.pwm_0.write((0, 307))"
   ]
  },
  {
   "cell_type": "code",
   "execution_count": 81,
   "id": "42ab0e4b-b0a4-4e8c-8daf-a755b97b078e",
   "metadata": {},
   "outputs": [
    {
     "name": "stdout",
     "output_type": "stream",
     "text": [
      "DEBUG 2022-06-29 13:20:50,026 [1680650265.py:27]: 6 write bytearray(b'\\n\\x00\\x00\\x1f\\x01')\n"
     ]
    }
   ],
   "source": [
    "auto_car.pwm_1.write((0, 287)) # 最小倒车"
   ]
  },
  {
   "cell_type": "code",
   "execution_count": 84,
   "id": "b9d39d87-634b-4ab1-9afe-d69035967664",
   "metadata": {},
   "outputs": [
    {
     "name": "stdout",
     "output_type": "stream",
     "text": [
      "DEBUG 2022-06-29 13:20:55,401 [1680650265.py:27]: 6 write bytearray(b'\\n\\x00\\x00 \\x01')\n"
     ]
    }
   ],
   "source": [
    "auto_car.pwm_1.write((0, 288)) # [288, 307],刹车区间"
   ]
  },
  {
   "cell_type": "code",
   "execution_count": 83,
   "id": "d449836d-53d2-44d8-8b50-fff8639eaa91",
   "metadata": {},
   "outputs": [
    {
     "name": "stdout",
     "output_type": "stream",
     "text": [
      "DEBUG 2022-06-29 13:20:52,566 [1680650265.py:27]: 6 write bytearray(b'\\n\\x00\\x004\\x01')\n"
     ]
    }
   ],
   "source": [
    "auto_car.pwm_1.write((0, 308)) # 最小前进"
   ]
  },
  {
   "cell_type": "markdown",
   "id": "274f2a70-cffd-4d56-b714-b50fb44f07b2",
   "metadata": {},
   "source": [
    "#### PCA9685 调研"
   ]
  },
  {
   "cell_type": "code",
   "execution_count": 269,
   "id": "53fa22b5-5078-49a6-b286-4dea697622e4",
   "metadata": {},
   "outputs": [],
   "source": [
    "import time\n",
    "\n",
    "from adafruit_register.i2c_struct import UnaryStruct\n",
    "from adafruit_register.i2c_struct_array import StructArray\n",
    "from adafruit_bus_device import i2c_device\n",
    "\n",
    "try:\n",
    "    from typing import Optional, Type\n",
    "    from types import TracebackType\n",
    "    from busio import I2C\n",
    "except ImportError:\n",
    "    pass\n",
    "\n",
    "\n",
    "class PWMChannel:\n",
    "    \"\"\"A single PCA9685 channel that matches the :py:class:`~pwmio.PWMOut` API.\n",
    "\n",
    "    :param PCA9685 pca: The PCA9685 object\n",
    "    :param int index: The index of the channel\n",
    "    \"\"\"\n",
    "\n",
    "    def __init__(self, pca: \"PCA9685\", index: int):\n",
    "        self._pca = pca\n",
    "        self._index = index\n",
    "\n",
    "    @property\n",
    "    def frequency(self) -> float:\n",
    "        \"\"\"The overall PWM frequency in Hertz (read-only).\n",
    "        A PWMChannel's frequency cannot be set individually.\n",
    "        All channels share a common frequency, set by PCA9685.frequency.\"\"\"\n",
    "        return self._pca.frequency\n",
    "\n",
    "    @frequency.setter\n",
    "    def frequency(self, _):\n",
    "        raise NotImplementedError(\"frequency cannot be set on individual channels\")\n",
    "\n",
    "    @property\n",
    "    def duty_cycle(self) -> int:\n",
    "        \"\"\"16 bit value that dictates how much of one cycle is high (1) versus low (0). 0xffff will\n",
    "        always be high, 0 will always be low and 0x7fff will be half high and then half low.\"\"\"\n",
    "        pwm = self._pca.pwm_regs[self._index]\n",
    "        if pwm[0] == 0x1000:\n",
    "            return 0xFFFF\n",
    "        return pwm[1] << 4\n",
    "\n",
    "    @duty_cycle.setter\n",
    "    def duty_cycle(self, value: int) -> None:\n",
    "        if not 0 <= value <= 0xFFFF:\n",
    "            raise ValueError(\"Out of range\")\n",
    "\n",
    "        if value == 0xFFFF:\n",
    "            self._pca.pwm_regs[self._index] = (0x1000, 0)\n",
    "        else:\n",
    "            # Shift our value by four because the PCA9685 is only 12 bits but our value is 16\n",
    "            value = (value + 1) >> 4\n",
    "            logger.debug(f'duty cycle : {value}')\n",
    "            self._pca.pwm_regs[self._index] = (0, value)\n",
    "\n",
    "\n",
    "class PCAChannels:  # pylint: disable=too-few-public-methods\n",
    "    \"\"\"Lazily creates and caches channel objects as needed. Treat it like a sequence.\n",
    "\n",
    "    :param PCA9685 pca: The PCA9685 object\n",
    "    \"\"\"\n",
    "\n",
    "    def __init__(self, pca: \"PCA9685\") -> None:\n",
    "        self._pca = pca\n",
    "        self._channels = [None] * len(self)\n",
    "\n",
    "    def __len__(self) -> int:\n",
    "        return 16\n",
    "\n",
    "    def __getitem__(self, index: int) -> PWMChannel:\n",
    "        if not self._channels[index]:\n",
    "            self._channels[index] = PWMChannel(self._pca, index)\n",
    "        return self._channels[index]\n",
    "\n",
    "\n",
    "class PCA9685:\n",
    "    \"\"\"\n",
    "    Initialise the PCA9685 chip at ``address`` on ``i2c_bus``.\n",
    "\n",
    "    The internal reference clock is 25mhz but may vary slightly with environmental conditions and\n",
    "    manufacturing variances. Providing a more precise ``reference_clock_speed`` can improve the\n",
    "    accuracy of the frequency and duty_cycle computations. See the ``calibration.py`` example for\n",
    "    how to derive this value by measuring the resulting pulse widths.\n",
    "\n",
    "    :param ~busio.I2C i2c_bus: The I2C bus which the PCA9685 is connected to.\n",
    "    :param int address: The I2C address of the PCA9685.\n",
    "    :param int reference_clock_speed: The frequency of the internal reference clock in Hertz.\n",
    "    \"\"\"\n",
    "\n",
    "    # Registers:\n",
    "    mode1_reg = UnaryStruct(0x00, \"<B\")\n",
    "    mode2_reg = UnaryStruct(0x01, \"<B\")\n",
    "    prescale_reg = UnaryStruct(0xFE, \"<B\")\n",
    "    pwm_regs = StructArray(0x06, \"<HH\", 16)\n",
    "\n",
    "    def __init__(\n",
    "        self,\n",
    "        i2c_bus: I2C,\n",
    "        *,\n",
    "        address: int = 0x40,\n",
    "        reference_clock_speed: int = 25000000\n",
    "    ) -> None:\n",
    "        self.i2c_device = i2c_device.I2CDevice(i2c_bus, address)\n",
    "        self.channels = PCAChannels(self)\n",
    "        \"\"\"Sequence of 16 `PWMChannel` objects. One for each channel.\"\"\"\n",
    "        self.reference_clock_speed = reference_clock_speed\n",
    "        \"\"\"The reference clock speed in Hz.\"\"\"\n",
    "        self.reset()\n",
    "        logger.debug(f'reset: mode1 reg:{self.mode1_reg}')\n",
    "\n",
    "    def reset(self) -> None:\n",
    "        \"\"\"Reset the chip.\"\"\"\n",
    "        self.mode1_reg = 0x00  # Mode1\n",
    "\n",
    "    @property\n",
    "    def frequency(self) -> float:\n",
    "        \"\"\"The overall PWM frequency in Hertz.\"\"\"\n",
    "        return self.reference_clock_speed / 4096 / self.prescale_reg\n",
    "\n",
    "    @frequency.setter\n",
    "    def frequency(self, freq: float) -> None:\n",
    "        prescale = int(self.reference_clock_speed / 4096.0 / freq + 0.5)\n",
    "        if prescale < 3:\n",
    "            raise ValueError(\"PCA9685 cannot output at the given frequency\")\n",
    "        old_mode = self.mode1_reg  # Mode 1\n",
    "        logger.debug(f'frequency: mode1 reg:{old_mode}')\n",
    "        new_mode1_reg = (old_mode & 0x7F) | 0x10\n",
    "        logger.debug(f'new_mode1_regg:{new_mode1_reg}')\n",
    "        self.mode1_reg = new_mode1_reg  # Mode 1, sleep\n",
    "        logger.debug(f'frequency: set mode1 reg:{self.mode1_reg}')\n",
    "        self.prescale_reg = prescale  # Prescale\n",
    "        logger.debug(f'frequency: prescale_reg:{self.prescale_reg}')\n",
    "        self.mode1_reg = old_mode  # Mode 1\n",
    "        logger.debug(f'frequency: set mode1 reg:{self.mode1_reg}')\n",
    "        time.sleep(0.005)\n",
    "        # Mode 1, autoincrement on, fix to stop pca9685 from accepting commands at all addresses\n",
    "        reset_old_mode = old_mode | 0xA0\n",
    "        logger.debug(f'frequency: reset_old_mode:{reset_old_mode}')\n",
    "        self.mode1_reg = reset_old_mode\n",
    "        logger.debug(f'frequency: set reset_old_mode reg:{self.mode1_reg}')\n",
    "        \n",
    "\n",
    "    def __enter__(self) -> \"PCA9685\":\n",
    "        return self\n",
    "\n",
    "    def __exit__(\n",
    "        self,\n",
    "        exception_type: Optional[Type[type]],\n",
    "        exception_value: Optional[BaseException],\n",
    "        traceback: Optional[TracebackType],\n",
    "    ) -> None:\n",
    "        self.deinit()\n",
    "\n",
    "    def deinit(self) -> None:\n",
    "        \"\"\"Stop using the pca9685.\"\"\"\n",
    "        self.reset()\n"
   ]
  },
  {
   "cell_type": "code",
   "execution_count": 270,
   "id": "958f250e-3f41-4842-b089-c89f8ed1f03e",
   "metadata": {},
   "outputs": [
    {
     "name": "stdout",
     "output_type": "stream",
     "text": [
      "DEBUG 2022-06-28 22:45:05,415 [1888121046.py:112]: reset: mode1 reg:0\n",
      "DEBUG 2022-06-28 22:45:05,418 [1888121046.py:129]: frequency: mode1 reg:0\n",
      "DEBUG 2022-06-28 22:45:05,419 [1888121046.py:131]: new_mode1_regg:16\n",
      "DEBUG 2022-06-28 22:45:05,423 [1888121046.py:133]: frequency: set mode1 reg:144\n",
      "DEBUG 2022-06-28 22:45:05,426 [1888121046.py:135]: frequency: prescale_reg:122\n",
      "DEBUG 2022-06-28 22:45:05,428 [1888121046.py:137]: frequency: set mode1 reg:128\n",
      "DEBUG 2022-06-28 22:45:05,435 [1888121046.py:141]: frequency: reset_old_mode:160\n",
      "DEBUG 2022-06-28 22:45:05,438 [1888121046.py:143]: frequency: set reset_old_mode reg:32\n"
     ]
    },
    {
     "data": {
      "text/plain": [
       "<__main__.PCA9685 at 0x7f6dc00c70>"
      ]
     },
     "execution_count": 270,
     "metadata": {},
     "output_type": "execute_result"
    }
   ],
   "source": [
    "pca = PCA9685(board.I2C())\n",
    "pca.frequency = 50\n",
    "pca"
   ]
  },
  {
   "cell_type": "code",
   "execution_count": 298,
   "id": "e9255025-50a4-4b94-b45a-1c4f3d977a35",
   "metadata": {},
   "outputs": [],
   "source": [
    "pca.pwm_regs[0] = (0, 460)"
   ]
  },
  {
   "cell_type": "code",
   "execution_count": 299,
   "id": "0810494c-b741-44b0-8741-ff5e3053fc08",
   "metadata": {},
   "outputs": [],
   "source": [
    "pca.pwm_regs[0] = (0, 307)"
   ]
  },
  {
   "cell_type": "code",
   "execution_count": 300,
   "id": "2c7a10f2-0792-4a3b-8015-7be35e7bb74f",
   "metadata": {},
   "outputs": [],
   "source": [
    "pca.pwm_regs[0] = (0, 153)"
   ]
  },
  {
   "cell_type": "code",
   "execution_count": 306,
   "id": "9dbcba7e-6da4-4631-8d9c-e3ff3339a4b4",
   "metadata": {},
   "outputs": [],
   "source": [
    "pca.pwm_regs[1] = (0, 308)"
   ]
  },
  {
   "cell_type": "code",
   "execution_count": 289,
   "id": "b6684416-ab64-4c32-9a00-f2b56048df70",
   "metadata": {},
   "outputs": [
    {
     "data": {
      "text/plain": [
       "6"
      ]
     },
     "execution_count": 289,
     "metadata": {},
     "output_type": "execute_result"
    }
   ],
   "source": [
    "pca.pwm_regs.first_register"
   ]
  },
  {
   "cell_type": "code",
   "execution_count": 291,
   "id": "cfed5bd2-a7ce-4bdc-b82a-6514170c3a6d",
   "metadata": {},
   "outputs": [
    {
     "data": {
      "text/plain": [
       "bytearray(b'\\n\\x00\\x00\\x00\\x00')"
      ]
     },
     "execution_count": 291,
     "metadata": {},
     "output_type": "execute_result"
    }
   ],
   "source": [
    "buf = pca.pwm_regs._get_buffer(1)\n",
    "buf"
   ]
  },
  {
   "cell_type": "code",
   "execution_count": 292,
   "id": "e10ddd72-027b-462f-8541-d66502e49def",
   "metadata": {},
   "outputs": [
    {
     "data": {
      "text/plain": [
       "bytearray(b'\\n\\x00\\x00\\x00\\x00')"
      ]
     },
     "execution_count": 292,
     "metadata": {},
     "output_type": "execute_result"
    }
   ],
   "source": [
    "buf[0] = 6 + 4 * 1\n",
    "buf"
   ]
  },
  {
   "cell_type": "code",
   "execution_count": 294,
   "id": "f657e66b-8ae2-4e0b-9a6e-fe4b70b3d400",
   "metadata": {},
   "outputs": [
    {
     "data": {
      "text/plain": [
       "bytearray(b'\\n\\x00\\x004\\x01')"
      ]
     },
     "execution_count": 294,
     "metadata": {},
     "output_type": "execute_result"
    }
   ],
   "source": [
    "struct.pack_into('<HH', buf, 1, *(0, 308))\n",
    "buf"
   ]
  },
  {
   "cell_type": "code",
   "execution_count": 295,
   "id": "d1c382e6-96a5-42a4-96fd-b3168b406f87",
   "metadata": {},
   "outputs": [
    {
     "data": {
      "text/plain": [
       "5"
      ]
     },
     "execution_count": 295,
     "metadata": {},
     "output_type": "execute_result"
    }
   ],
   "source": [
    "len(buf)"
   ]
  },
  {
   "cell_type": "markdown",
   "id": "d93d1fa0-4e11-4542-97df-578b58f601b2",
   "metadata": {},
   "source": [
    "## Nvida Racer调研"
   ]
  },
  {
   "cell_type": "code",
   "execution_count": 1,
   "id": "46028f60-eb9d-440b-bf76-f49482895fdf",
   "metadata": {},
   "outputs": [
    {
     "name": "stdout",
     "output_type": "stream",
     "text": [
      "Defaulting to user installation because normal site-packages is not writeable\n",
      "Requirement already satisfied: jetracer in /usr/local/lib/python3.8/dist-packages/jetracer-0.0.0-py3.8.egg (0.0.0)\n",
      "Requirement already satisfied: adafruit-circuitpython-servokit in /usr/local/lib/python3.8/dist-packages (from jetracer) (1.3.10)\n",
      "Requirement already satisfied: Adafruit-Blinka>=7.0.0 in /usr/local/lib/python3.8/dist-packages (from adafruit-circuitpython-servokit->jetracer) (8.0.2)\n",
      "Requirement already satisfied: adafruit-circuitpython-busdevice in /usr/local/lib/python3.8/dist-packages (from adafruit-circuitpython-servokit->jetracer) (5.1.10)\n",
      "Requirement already satisfied: adafruit-circuitpython-motor in /usr/local/lib/python3.8/dist-packages (from adafruit-circuitpython-servokit->jetracer) (3.4.2)\n",
      "Requirement already satisfied: adafruit-circuitpython-pca9685 in /usr/local/lib/python3.8/dist-packages (from adafruit-circuitpython-servokit->jetracer) (3.4.3)\n",
      "Requirement already satisfied: adafruit-circuitpython-register in /usr/local/lib/python3.8/dist-packages (from adafruit-circuitpython-servokit->jetracer) (1.9.10)\n",
      "Requirement already satisfied: Adafruit-PlatformDetect>=3.13.0 in /usr/local/lib/python3.8/dist-packages (from Adafruit-Blinka>=7.0.0->adafruit-circuitpython-servokit->jetracer) (3.24.1)\n",
      "Requirement already satisfied: Adafruit-PureIO>=1.1.7 in /usr/local/lib/python3.8/dist-packages (from Adafruit-Blinka>=7.0.0->adafruit-circuitpython-servokit->jetracer) (1.1.9)\n",
      "Requirement already satisfied: Jetson.GPIO in /usr/lib/python3/dist-packages (from Adafruit-Blinka>=7.0.0->adafruit-circuitpython-servokit->jetracer) (2.0.17)\n",
      "Requirement already satisfied: adafruit-circuitpython-typing in /usr/local/lib/python3.8/dist-packages (from Adafruit-Blinka>=7.0.0->adafruit-circuitpython-servokit->jetracer) (1.7.1)\n",
      "Requirement already satisfied: pyftdi>=0.40.0 in /usr/local/lib/python3.8/dist-packages (from Adafruit-Blinka>=7.0.0->adafruit-circuitpython-servokit->jetracer) (0.54.0)\n",
      "Requirement already satisfied: pyusb!=1.2.0,>=1.0.0 in /usr/local/lib/python3.8/dist-packages (from pyftdi>=0.40.0->Adafruit-Blinka>=7.0.0->adafruit-circuitpython-servokit->jetracer) (1.2.1)\n",
      "Requirement already satisfied: pyserial>=3.0 in /usr/local/lib/python3.8/dist-packages (from pyftdi>=0.40.0->Adafruit-Blinka>=7.0.0->adafruit-circuitpython-servokit->jetracer) (3.5)\n"
     ]
    }
   ],
   "source": [
    "!pip3 install jetracer"
   ]
  },
  {
   "cell_type": "code",
   "execution_count": 3,
   "id": "f59d6353-340f-4599-8804-d553c7f8b955",
   "metadata": {},
   "outputs": [
    {
     "data": {
      "text/plain": [
       "<jetracer.nvidia_racecar.NvidiaRacecar at 0x7f7c190130>"
      ]
     },
     "execution_count": 3,
     "metadata": {},
     "output_type": "execute_result"
    }
   ],
   "source": [
    "from jetracer.nvidia_racecar import NvidiaRacecar\n",
    "\n",
    "car = NvidiaRacecar()\n",
    "car"
   ]
  },
  {
   "cell_type": "code",
   "execution_count": 9,
   "id": "ebced8c8-6b4d-462f-9a9b-88c1dd85f3d4",
   "metadata": {},
   "outputs": [
    {
     "data": {
      "text/plain": [
       "{'_trait_values': {'i2c_address': 64,\n",
       "  'steering_channel': 0,\n",
       "  'throttle_channel': 1,\n",
       "  'steering': 0.1,\n",
       "  'steering_gain': -0.65,\n",
       "  'steering_offset': 0.0},\n",
       " '_trait_notifiers': {'steering': {'change': [<traitlets.traitlets.ObserveHandler at 0x7f7c467100>]},\n",
       "  'throttle': {'change': [<traitlets.traitlets.ObserveHandler at 0x7f7c467280>]}},\n",
       " '_trait_validators': {'steering': <traitlets.traitlets.ValidateHandler at 0x7f7c49ff40>,\n",
       "  'throttle': <traitlets.traitlets.ValidateHandler at 0x7f7c49fc40>},\n",
       " '_cross_validation_lock': False,\n",
       " 'kit': <adafruit_servokit.ServoKit at 0x7f7c190160>,\n",
       " 'steering_motor': <adafruit_motor.servo.ContinuousServo at 0x7f7c49a790>,\n",
       " 'throttle_motor': <adafruit_motor.servo.ContinuousServo at 0x7f7c1905e0>}"
      ]
     },
     "execution_count": 9,
     "metadata": {},
     "output_type": "execute_result"
    }
   ],
   "source": [
    "car.__dict__"
   ]
  },
  {
   "cell_type": "code",
   "execution_count": 4,
   "id": "bd74b7d3-4c86-4af0-b146-dc92873bfb55",
   "metadata": {},
   "outputs": [],
   "source": [
    "car.steering = 0.1"
   ]
  },
  {
   "cell_type": "code",
   "execution_count": 7,
   "id": "1666669f-51df-4ecb-b28a-196d5f9f55d7",
   "metadata": {},
   "outputs": [
    {
     "data": {
      "text/plain": [
       "-0.65"
      ]
     },
     "execution_count": 7,
     "metadata": {},
     "output_type": "execute_result"
    }
   ],
   "source": [
    "car.steering_gain"
   ]
  },
  {
   "cell_type": "code",
   "execution_count": 8,
   "id": "36fda7fc-b310-471e-88d0-ec4ac25205f8",
   "metadata": {},
   "outputs": [
    {
     "data": {
      "text/plain": [
       "0.0"
      ]
     },
     "execution_count": 8,
     "metadata": {},
     "output_type": "execute_result"
    }
   ],
   "source": [
    "car.steering_offset"
   ]
  },
  {
   "cell_type": "markdown",
   "id": "c5b5b144-28ed-4142-9955-62280182d5c8",
   "metadata": {},
   "source": [
    "#### 初始化"
   ]
  },
  {
   "cell_type": "code",
   "execution_count": 6,
   "id": "2284d4bf-9d3a-4705-a675-ed4f29f2395e",
   "metadata": {},
   "outputs": [
    {
     "data": {
      "text/plain": [
       "<adafruit_servokit.ServoKit at 0x7fa409c9d0>"
      ]
     },
     "execution_count": 6,
     "metadata": {},
     "output_type": "execute_result"
    }
   ],
   "source": [
    "from adafruit_servokit import ServoKit\n",
    "kit = ServoKit(channels=16)\n",
    "kit"
   ]
  },
  {
   "cell_type": "markdown",
   "id": "242deef9-01c5-4856-950b-10c4598de2be",
   "metadata": {},
   "source": [
    "#### 前进\n",
    "\n",
    "> 控制电机"
   ]
  },
  {
   "cell_type": "code",
   "execution_count": 172,
   "id": "9911c95c-4de7-45ba-9659-11cda2e5880a",
   "metadata": {},
   "outputs": [],
   "source": [
    "# 控制前进油门，必须先把servo的throttle设为0\n",
    "kit.continuous_servo[1].throttle = 0"
   ]
  },
  {
   "cell_type": "code",
   "execution_count": 12,
   "id": "41a82c50-1a36-42dd-b9e8-832dae22d733",
   "metadata": {},
   "outputs": [
    {
     "name": "stdout",
     "output_type": "stream",
     "text": [
      "acceleration=0.005, speed=0.0\n",
      "acceleration=0.005, speed=0.005\n",
      "acceleration=0.005, speed=0.01\n",
      "acceleration=0.005, speed=0.015\n",
      "acceleration=0.005, speed=0.02\n",
      "acceleration=0.005, speed=0.025\n",
      "acceleration=0.005, speed=0.03\n",
      "acceleration=0.005, speed=0.035\n",
      "acceleration=0.005, speed=0.04\n",
      "acceleration=0.005, speed=0.045\n",
      "acceleration=0.005, speed=0.05\n",
      "acceleration=0.005, speed=0.055\n",
      "acceleration=0.005, speed=0.06\n",
      "acceleration=0.005, speed=0.065\n",
      "acceleration=0.005, speed=0.07\n",
      "acceleration=0.005, speed=0.075\n",
      "acceleration=0.005, speed=0.08\n",
      "acceleration=0.005, speed=0.085\n",
      "acceleration=0.005, speed=0.09\n",
      "acceleration=0.005, speed=0.095\n",
      "acceleration=0.005, speed=0.1\n",
      "acceleration=0.005, speed=0.105\n",
      "speed=0\n"
     ]
    }
   ],
   "source": [
    "import time\n",
    "max_speed = 0.1\n",
    "kit.continuous_servo[1].throttle = 0\n",
    "# 当前throttle最小值为0.005\n",
    "acceleration = 0.005\n",
    "count = int(1.0 / acceleration)\n",
    "for i in range(count):\n",
    "    speed = i * acceleration\n",
    "    print(f'acceleration={acceleration}, speed={speed}')\n",
    "    if speed > max_speed:\n",
    "        break\n",
    "    kit.continuous_servo[1].throttle = speed\n",
    "    time.sleep(0.1)\n",
    "kit.continuous_servo[1].throttle = 0\n",
    "print(f'speed=0')"
   ]
  },
  {
   "cell_type": "markdown",
   "id": "c3078871-50c7-4128-b977-8c1ca7f1480b",
   "metadata": {},
   "source": [
    "#### 转向\n",
    "\n",
    "> 控制舵机"
   ]
  },
  {
   "cell_type": "code",
   "execution_count": 10,
   "id": "b0771f26-4808-49f7-9961-17e21ceee51f",
   "metadata": {},
   "outputs": [],
   "source": [
    "kit.servo[0].angle = 180"
   ]
  },
  {
   "cell_type": "code",
   "execution_count": 8,
   "id": "3c7fde9e-b94a-42b9-8ce8-16e2b2fe543d",
   "metadata": {},
   "outputs": [],
   "source": [
    "kit.servo[0].angle = 0"
   ]
  },
  {
   "cell_type": "code",
   "execution_count": 11,
   "id": "471faaee-0ce5-4254-861b-1565180552a9",
   "metadata": {},
   "outputs": [],
   "source": [
    "kit.servo[0].angle = 90"
   ]
  },
  {
   "cell_type": "code",
   "execution_count": 8,
   "id": "a70d9161-df82-4c11-9e2d-b9c46da6317d",
   "metadata": {},
   "outputs": [],
   "source": [
    "import time\n",
    "steer_serv = kit.servo[0]\n",
    "steer_serv.angle = 0\n",
    "for i in range(180):\n",
    "    steer_serv.angle = i\n",
    "    time.sleep(0.1)"
   ]
  },
  {
   "cell_type": "markdown",
   "id": "b39f6b80-57cf-4ac2-ad90-b896e7d2c311",
   "metadata": {},
   "source": [
    "#### 刹车"
   ]
  },
  {
   "cell_type": "code",
   "execution_count": 116,
   "id": "fd371ee5-7a84-43c9-873b-608b9cfc3038",
   "metadata": {},
   "outputs": [],
   "source": [
    "kit.continuous_servo[0].throttle = 0"
   ]
  },
  {
   "cell_type": "markdown",
   "id": "27abcfd3-99c5-4ec1-bbae-2e496276bd1b",
   "metadata": {},
   "source": [
    "#### 倒车"
   ]
  },
  {
   "cell_type": "code",
   "execution_count": 9,
   "id": "ad0cfed6-758b-419d-9ab7-10a8519f02bb",
   "metadata": {},
   "outputs": [],
   "source": [
    "kit.servo[0].angle = 90\n",
    "kit.continuous_servo[1].throttle = 0"
   ]
  },
  {
   "cell_type": "code",
   "execution_count": 10,
   "id": "e9b6e4ea-3e3b-40e7-b972-292b8cb88eb6",
   "metadata": {},
   "outputs": [],
   "source": [
    "kit.continuous_servo[1].throttle = -0.1"
   ]
  },
  {
   "cell_type": "code",
   "execution_count": 21,
   "id": "9c3b8559-be09-48d6-b1f1-0b0c0405da9f",
   "metadata": {},
   "outputs": [],
   "source": [
    "gas_pedal = kit.continuous_servo[1]\n",
    "\n",
    "gas_pedal.throttle = 0\n",
    "gas_pedal.throttle = 0.01\n",
    "time.sleep(0.5)\n",
    "gas_pedal.throttle = -1\n",
    "time.sleep(0.5)\n",
    "gas_pedal.throttle = 0.0\n",
    "gas_pedal.throttle = -0.1"
   ]
  },
  {
   "cell_type": "code",
   "execution_count": 10,
   "id": "0d114322-c248-4cfd-970d-d1edf8f418c8",
   "metadata": {},
   "outputs": [
    {
     "name": "stdout",
     "output_type": "stream",
     "text": [
      "acceleration=0.005, speed=0.0\n",
      "acceleration=0.005, speed=-0.005\n",
      "acceleration=0.005, speed=-0.01\n",
      "acceleration=0.005, speed=-0.015\n",
      "acceleration=0.005, speed=-0.02\n",
      "acceleration=0.005, speed=-0.025\n",
      "acceleration=0.005, speed=-0.03\n",
      "acceleration=0.005, speed=-0.035\n",
      "acceleration=0.005, speed=-0.04\n",
      "acceleration=0.005, speed=-0.045\n",
      "acceleration=0.005, speed=-0.05\n",
      "acceleration=0.005, speed=-0.055\n",
      "acceleration=0.005, speed=-0.06\n",
      "acceleration=0.005, speed=-0.065\n",
      "acceleration=0.005, speed=-0.07\n",
      "acceleration=0.005, speed=-0.075\n",
      "acceleration=0.005, speed=-0.08\n",
      "acceleration=0.005, speed=-0.085\n",
      "acceleration=0.005, speed=-0.09\n",
      "acceleration=0.005, speed=-0.095\n",
      "acceleration=0.005, speed=-0.1\n",
      "acceleration=0.005, speed=-0.105\n",
      "speed=0\n"
     ]
    }
   ],
   "source": [
    "import time\n",
    "min_speed = -0.1\n",
    "kit.continuous_servo[0].throttle = 0\n",
    "# 当前throttle最小值为0.005\n",
    "acceleration = 0.005\n",
    "count = int(1.0 / acceleration)\n",
    "for i in range(count):\n",
    "    speed = -i * acceleration\n",
    "    print(f'acceleration={acceleration}, speed={speed}')\n",
    "    if speed < min_speed:\n",
    "        break\n",
    "    kit.continuous_servo[0].throttle = speed\n",
    "    time.sleep(0.1)\n",
    "kit.continuous_servo[0].throttle = 0\n",
    "print(f'speed=0')"
   ]
  },
  {
   "cell_type": "code",
   "execution_count": 14,
   "id": "d12416cc-b58b-4307-b931-48b84f323703",
   "metadata": {},
   "outputs": [
    {
     "data": {
      "text/plain": [
       "<adafruit_motor.servo.ContinuousServo at 0x7f7c052490>"
      ]
     },
     "execution_count": 14,
     "metadata": {},
     "output_type": "execute_result"
    }
   ],
   "source": [
    "kit.continuous_servo[0]\n"
   ]
  },
  {
   "cell_type": "code",
   "execution_count": 15,
   "id": "affb0eb7-8f42-4105-9cd2-52550010a146",
   "metadata": {},
   "outputs": [],
   "source": [
    "kit.continuous_servo[0].throttle = -1"
   ]
  },
  {
   "cell_type": "code",
   "execution_count": 16,
   "id": "d6756244-0f52-4b26-aedb-0b0ca3cebeb8",
   "metadata": {},
   "outputs": [],
   "source": [
    "kit.continuous_servo[0].throttle = -0.9"
   ]
  },
  {
   "cell_type": "code",
   "execution_count": null,
   "id": "372cf08c-3112-45d6-8a62-35625059e7bc",
   "metadata": {},
   "outputs": [],
   "source": []
  }
 ],
 "metadata": {
  "kernelspec": {
   "display_name": "Python 3 (ipykernel)",
   "language": "python",
   "name": "python3"
  },
  "language_info": {
   "codemirror_mode": {
    "name": "ipython",
    "version": 3
   },
   "file_extension": ".py",
   "mimetype": "text/x-python",
   "name": "python",
   "nbconvert_exporter": "python",
   "pygments_lexer": "ipython3",
   "version": "3.8.13"
  }
 },
 "nbformat": 4,
 "nbformat_minor": 5
}
