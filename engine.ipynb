{
 "cells": [
  {
   "cell_type": "markdown",
   "id": "3d39ab82-6bde-4bc0-849c-230329ac4e60",
   "metadata": {},
   "source": [
    "# Engine"
   ]
  },
  {
   "cell_type": "code",
   "execution_count": 100,
   "id": "0aee969c-9aea-46b6-89e3-1c8036e635ce",
   "metadata": {},
   "outputs": [],
   "source": [
    "import sys\n",
    "import logging\n",
    "import math\n",
    "import time\n",
    "import enum\n",
    "import struct\n",
    "import board\n",
    "import RPi.GPIO as GPIO\n",
    "\n",
    "logger = logging.getLogger()\n",
    "FORMAT = '%(levelname)s %(asctime)s [%(filename)s:%(lineno)d]: %(message)s'\n",
    "logging.basicConfig(format=FORMAT, stream=sys.stdout, level=logging.DEBUG)\n",
    "logger = logging.getLogger()"
   ]
  },
  {
   "cell_type": "code",
   "execution_count": 90,
   "id": "448a9abb-4297-440d-9b24-3be68e86d2ba",
   "metadata": {},
   "outputs": [],
   "source": [
    "class Pulse:\n",
    "    def __init__(self, min=750, max=2250):\n",
    "        self.min = min\n",
    "        self.max = max\n",
    "    \n",
    "    def __repr__(self):\n",
    "        return str(self.__dict__)"
   ]
  },
  {
   "cell_type": "code",
   "execution_count": 91,
   "id": "b779864c-0efe-4065-a755-289fa4ffca76",
   "metadata": {},
   "outputs": [],
   "source": [
    "class Duty:\n",
    "    def __init__(self, pulse=Pulse(), frequency=50):\n",
    "        self.frequency = frequency\n",
    "        self.min = self._from_pulse_(pulse.min)\n",
    "        self.max = self._from_pulse_(pulse.max)\n",
    "        self.scale = self.max - self.min\n",
    "\n",
    "    # 占空比\n",
    "    def cycle(self, value):\n",
    "        return self.min + int(value * self.scale)\n",
    "        \n",
    "    def _from_pulse_(self, pulse_value):\n",
    "        return int((pulse_value * self.frequency) / 1000000 * 0xFFFF)\n",
    "    \n",
    "    def __repr__(self):\n",
    "        return str(self.__dict__)"
   ]
  },
  {
   "cell_type": "code",
   "execution_count": 92,
   "id": "6cb0eb75-20d1-4ed6-847d-a0748c20addf",
   "metadata": {},
   "outputs": [],
   "source": [
    "class Register:\n",
    "    def __init__(self, i2c, device_address, register_address, struct_format, is_array = False, index = 0):\n",
    "        self.i2c = i2c\n",
    "        self.device_address = device_address\n",
    "        self.struct_format = struct_format\n",
    "        self.register_address = register_address\n",
    "        self.index = index\n",
    "        self.is_array = is_array\n",
    "        self.buffer = self._create_buffer_()\n",
    "        \n",
    "    def write(self, value):\n",
    "        if self.is_array:\n",
    "            struct.pack_into(self.struct_format, self.buffer, 1, *value)\n",
    "        else:\n",
    "            struct.pack_into(self.struct_format, self.buffer, 1, value)\n",
    "        logger.debug(f'{self.register_address} write {self.buffer}')\n",
    "        self.i2c.writeto(self.device_address, self.buffer)\n",
    "        \n",
    "    def read(self):\n",
    "        buf = self._create_buffer_()\n",
    "        self.i2c.writeto_then_readfrom(self.device_address, buf, buf, out_start=0, out_end=1, in_start=1, in_end=None)\n",
    "        return struct.unpack_from(self.struct_format, buf, 1)[0]\n",
    "    \n",
    "    def _create_buffer_(self):\n",
    "        size = struct.calcsize(self.struct_format)\n",
    "        buffer = bytearray(1 + size)\n",
    "        if self.is_array:\n",
    "            buffer[0] = self.register_address + size * self.index\n",
    "        else:\n",
    "            buffer[0] = self.register_address\n",
    "        return buffer\n",
    "        \n",
    "    def __repr__(self):\n",
    "        return str(self.__dict__)"
   ]
  },
  {
   "cell_type": "code",
   "execution_count": 93,
   "id": "e66a3211-302f-4a53-bda9-b41a974c35d6",
   "metadata": {},
   "outputs": [],
   "source": [
    "class Engine:\n",
    "    def __init__(self, device_address=0x40, clock_speed = 25000000, frequency = 50):\n",
    "        GPIO.cleanup()\n",
    "        print(GPIO.JETSON_INFO)\n",
    "        self.i2c = board.I2C()\n",
    "        self.device_address = device_address\n",
    "        self.clock_speed = clock_speed\n",
    "        self.frequency = frequency\n",
    "        self.prescale_value = math.floor(self.clock_speed / 4096.0 / self.frequency + 0.5)\n",
    "        self._alive_()\n",
    "        \n",
    "    def _alive_(self):\n",
    "        while not self.i2c.try_lock():\n",
    "            pass\n",
    "        try:\n",
    "            self.i2c.writeto(self.device_address, b'')\n",
    "        except OSError:\n",
    "            try:\n",
    "                result = bytearray(1)\n",
    "                self.i2c.readfrom_into(self.device_address, result)\n",
    "                logger.debug(f'probe device result: {result}')\n",
    "            except OSError:\n",
    "                raise ValueError(\"No I2C device at address: 0x%x\" % self.device_address)\n",
    "        finally:\n",
    "            self.i2c.unlock()\n",
    "        \n",
    "    def start(self):\n",
    "        mode_reg = Register(self.i2c, self.device_address, 0x00, '<B')\n",
    "        prescale_reg =  Register(self.i2c, self.device_address, 0xFE, '<B')\n",
    "        mode_val = mode_reg.read()\n",
    "        mode_reg.write(0x00)\n",
    "        mode_reg.write((mode_val & 0x7F) | 0x10)\n",
    "        prescale_reg.write(math.floor(self.clock_speed / 4096.0 / self.frequency + 0.5))\n",
    "        mode_reg.write(mode_val)\n",
    "        time.sleep(0.005)\n",
    "        mode_reg.write(mode_val | 0xA0)\n",
    "        \n",
    "    def __repr__(self):\n",
    "        return str(self.__dict__)"
   ]
  },
  {
   "cell_type": "code",
   "execution_count": 94,
   "id": "fae29333-9715-4dde-9263-72ed7caf623c",
   "metadata": {},
   "outputs": [
    {
     "name": "stdout",
     "output_type": "stream",
     "text": [
      "{'P1_REVISION': 1, 'RAM': '4096M', 'REVISION': 'Unknown', 'TYPE': 'Jetson Nano', 'MANUFACTURER': 'NVIDIA', 'PROCESSOR': 'ARM A57'}\n",
      "DEBUG 2022-06-29 14:43:23,591 [1351259434.py:21]: probe device result: bytearray(b'\\x00')\n",
      "DEBUG 2022-06-29 14:43:23,599 [2315270026.py:16]: 0 write bytearray(b'\\x00\\x00')\n",
      "DEBUG 2022-06-29 14:43:23,605 [2315270026.py:16]: 0 write bytearray(b'\\x000')\n",
      "DEBUG 2022-06-29 14:43:23,609 [2315270026.py:16]: 254 write bytearray(b'\\xfez')\n",
      "DEBUG 2022-06-29 14:43:23,613 [2315270026.py:16]: 0 write bytearray(b'\\x00 ')\n",
      "DEBUG 2022-06-29 14:43:23,627 [2315270026.py:16]: 0 write bytearray(b'\\x00\\xa0')\n"
     ]
    }
   ],
   "source": [
    "engine = Engine()\n",
    "engine.start()"
   ]
  },
  {
   "cell_type": "code",
   "execution_count": 95,
   "id": "28df331d-9a55-4afa-ad12-3cdf0c161389",
   "metadata": {},
   "outputs": [],
   "source": [
    "class Contoller:\n",
    "    def __init__(self, engine, index=0):\n",
    "        self.engine = engine\n",
    "        self.duty = Duty()\n",
    "        self.pwm_reg = Register(engine.i2c, engine.device_address, 0x06, '<HH', True, index)\n",
    "       \n",
    "    def _send_(self, value):\n",
    "        cycle = self.duty.cycle(value)\n",
    "        cycle = (cycle + 1) >> 4\n",
    "        self.pwm_reg.write((0, cycle))"
   ]
  },
  {
   "cell_type": "code",
   "execution_count": 96,
   "id": "9ef84fe5-924e-4211-a959-0c33b37b6f51",
   "metadata": {},
   "outputs": [],
   "source": [
    "class Steering(Contoller):\n",
    "    def __init__(self, engine):\n",
    "        super().__init__(engine)\n",
    "        \n",
    "    def left(self, angle):\n",
    "        if angle < 0 or angle > 90:\n",
    "            raise ValueError(\"Angle must be between 0 and 90\")\n",
    "        angle += 90.0\n",
    "        self._turn_(angle)\n",
    "        \n",
    "    def right(self, angle):\n",
    "        if angle < 0 or angle > 90:\n",
    "            raise ValueError(\"Angle must be between 0 and 90\")\n",
    "        self._turn_(angle)\n",
    "        \n",
    "    def neutral(self):\n",
    "        self._turn_(90.0)\n",
    "        \n",
    "    def _turn_(self, angle):\n",
    "        self._send_(angle / 180.0)"
   ]
  },
  {
   "cell_type": "code",
   "execution_count": 97,
   "id": "5dcab7f6-4b52-41e5-8f28-530562570d9a",
   "metadata": {},
   "outputs": [
    {
     "name": "stdout",
     "output_type": "stream",
     "text": [
      "DEBUG 2022-06-29 14:43:23,708 [2315270026.py:16]: 6 write bytearray(b'\\x06\\x00\\x00w\\x01')\n",
      "DEBUG 2022-06-29 14:43:24,718 [2315270026.py:16]: 6 write bytearray(b'\\x06\\x00\\x00\\xdd\\x00')\n",
      "DEBUG 2022-06-29 14:43:25,740 [2315270026.py:16]: 6 write bytearray(b'\\x06\\x00\\x003\\x01')\n"
     ]
    }
   ],
   "source": [
    "steering = Steering(engine)\n",
    "steering.left(40)\n",
    "time.sleep(1)\n",
    "steering.right(40)\n",
    "time.sleep(1)\n",
    "steering.neutral()"
   ]
  },
  {
   "cell_type": "code",
   "execution_count": 98,
   "id": "3bf0c256-f945-4b43-b745-12abe0ca9fd6",
   "metadata": {},
   "outputs": [],
   "source": [
    "class Pedal(Contoller):\n",
    "    def __init__(self, engine):\n",
    "        super().__init__(engine, 1)\n",
    "        \n",
    "    def forward(self, force=0):\n",
    "        if force < 0 or force > 1.0:\n",
    "            raise ValueError('pedal force must be between 0.0 and 1.0')\n",
    "        force += 0.006\n",
    "        self._pedal_(force)\n",
    "        \n",
    "    def backward(self, force=0):\n",
    "        if force < 0 or force > 1.0:\n",
    "            raise ValueError('pedal force must be between 0.0 and 1.0')\n",
    "        force = -force - 0.13 \n",
    "        self._pedal_(force)\n",
    "        \n",
    "    def brake(self):\n",
    "        self._pedal_(0.0)\n",
    "        \n",
    "    def _pedal_(self, force):\n",
    "        self._send_((force + 1.0) * 0.5)"
   ]
  },
  {
   "cell_type": "code",
   "execution_count": 99,
   "id": "5d8b2b2c-0ca7-4861-afeb-0316b43f985b",
   "metadata": {},
   "outputs": [
    {
     "name": "stdout",
     "output_type": "stream",
     "text": [
      "DEBUG 2022-06-29 14:43:25,801 [2315270026.py:16]: 6 write bytearray(b'\\n\\x00\\x004\\x01')\n",
      "DEBUG 2022-06-29 14:43:26,809 [2315270026.py:16]: 6 write bytearray(b'\\n\\x00\\x00\\x1f\\x01')\n",
      "DEBUG 2022-06-29 14:43:27,833 [2315270026.py:16]: 6 write bytearray(b'\\n\\x00\\x003\\x01')\n"
     ]
    }
   ],
   "source": [
    "pedal = Pedal(engine)\n",
    "pedal.forward()\n",
    "time.sleep(1)\n",
    "pedal.backward()\n",
    "time.sleep(1)\n",
    "pedal.brake()"
   ]
  },
  {
   "cell_type": "code",
   "execution_count": 107,
   "id": "6d51679a-d619-4c4a-a300-bc71d2b8c1a4",
   "metadata": {},
   "outputs": [],
   "source": [
    "class Direction(enum.Enum):\n",
    "    LEFT = 'left'\n",
    "    RIGHT = 'right'\n",
    "    MIDDLE  = 'middle'\n",
    "\n",
    "class Vehicle:\n",
    "    def __init__(self):\n",
    "        self.engine = Engine()\n",
    "        self.steering = Steering(self.engine)\n",
    "        self.pedal = Pedal(self.engine)\n",
    "        \n",
    "    def start(self):\n",
    "        self.engine.start()\n",
    "        \n",
    "    def turn(self, direction, angle, speed=0):\n",
    "        self.pedal.forward(speed)\n",
    "        if direction == Direction.LEFT:\n",
    "            self.steering.left(angle)\n",
    "        if direction == Direction.RIGHT:\n",
    "            self.steering.right(angle)\n",
    "        \n",
    "    def straight(self, speed=0):\n",
    "        self.steering.neutral()\n",
    "        self.pedal.forward(speed)\n",
    "        \n",
    "    def stop(self):\n",
    "        self.steering.neutral()\n",
    "        self.pedal.brake()\n",
    "        \n",
    "    def reverse(self, direction, angle, speed=0):\n",
    "        self.pedal.backward(speed)\n",
    "        if direction == Direction.LEFT:\n",
    "            self.steering.left(angle)\n",
    "        if direction == Direction.RIGHT:\n",
    "            self.steering.right(angle)"
   ]
  },
  {
   "cell_type": "code",
   "execution_count": null,
   "id": "1802027d-1575-401f-a490-46442291e823",
   "metadata": {},
   "outputs": [
    {
     "name": "stdout",
     "output_type": "stream",
     "text": [
      "{'P1_REVISION': 1, 'RAM': '4096M', 'REVISION': 'Unknown', 'TYPE': 'Jetson Nano', 'MANUFACTURER': 'NVIDIA', 'PROCESSOR': 'ARM A57'}\n",
      "DEBUG 2022-06-29 15:02:05,634 [1351259434.py:21]: probe device result: bytearray(b'\\x00')\n",
      "DEBUG 2022-06-29 15:02:05,638 [2315270026.py:16]: 0 write bytearray(b'\\x00\\x00')\n",
      "DEBUG 2022-06-29 15:02:05,640 [2315270026.py:16]: 0 write bytearray(b'\\x000')\n",
      "DEBUG 2022-06-29 15:02:05,643 [2315270026.py:16]: 254 write bytearray(b'\\xfez')\n",
      "DEBUG 2022-06-29 15:02:05,645 [2315270026.py:16]: 0 write bytearray(b'\\x00 ')\n",
      "DEBUG 2022-06-29 15:02:05,653 [2315270026.py:16]: 0 write bytearray(b'\\x00\\xa0')\n",
      "DEBUG 2022-06-29 15:02:05,657 [2315270026.py:16]: 6 write bytearray(b'\\x06\\x00\\x003\\x01')\n",
      "DEBUG 2022-06-29 15:02:05,660 [2315270026.py:16]: 6 write bytearray(b'\\n\\x00\\x004\\x01')\n"
     ]
    }
   ],
   "source": [
    "vehicle = Vehicle()\n",
    "vehicle.start()"
   ]
  },
  {
   "cell_type": "code",
   "execution_count": 111,
   "id": "f9a2754a-62d3-4018-bf16-9cad12325f11",
   "metadata": {},
   "outputs": [
    {
     "name": "stdout",
     "output_type": "stream",
     "text": [
      "DEBUG 2022-06-29 15:01:48,522 [2315270026.py:16]: 6 write bytearray(b'\\x06\\x00\\x003\\x01')\n",
      "DEBUG 2022-06-29 15:01:48,532 [2315270026.py:16]: 6 write bytearray(b'\\n\\x00\\x003\\x01')\n"
     ]
    }
   ],
   "source": [
    "vehicle.stop()"
   ]
  },
  {
   "cell_type": "code",
   "execution_count": null,
   "id": "b97faddf-d695-4194-a38f-2661ca4493c8",
   "metadata": {},
   "outputs": [],
   "source": [
    "while True:\n",
    "    vehicle.straight()\n",
    "    time.sleep(5)\n",
    "    vehicle.turn(Direction.LEFT, 20)\n",
    "    time.sleep(2)\n",
    "    vehicle.straight(0.02)\n",
    "    time.sleep(5)\n",
    "    vehicle.turn(Direction.RIGHT, 30)\n",
    "    time.sleep(2)\n",
    "    vehicle.straight(0.03)\n",
    "    time.sleep(3)\n",
    "    vehicle.stop()\n",
    "    time.sleep(1)\n",
    "    vehicle.reverse(Direction.LEFT, 40)\n",
    "    time.sleep(3)"
   ]
  }
 ],
 "metadata": {
  "kernelspec": {
   "display_name": "Python 3 (ipykernel)",
   "language": "python",
   "name": "python3"
  },
  "language_info": {
   "codemirror_mode": {
    "name": "ipython",
    "version": 3
   },
   "file_extension": ".py",
   "mimetype": "text/x-python",
   "name": "python",
   "nbconvert_exporter": "python",
   "pygments_lexer": "ipython3",
   "version": "3.8.13"
  }
 },
 "nbformat": 4,
 "nbformat_minor": 5
}
